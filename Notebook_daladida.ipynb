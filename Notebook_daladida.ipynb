{
  "cells": [
    {
      "cell_type": "markdown",
      "metadata": {
        "id": "kH4QHCrjEcJb"
      },
      "source": [
        "# Data Understanding"
      ]
    },
    {
      "cell_type": "code",
      "execution_count": null,
      "metadata": {
        "id": "B8WdNAUz7kN7"
      },
      "outputs": [],
      "source": [
        "#LIBRARY\n",
        "import pandas as pd\n",
        "import matplotlib.pyplot as plt\n",
        "import seaborn as sns\n",
        "import numpy as np\n",
        "import warnings\n",
        "warnings.filterwarnings('ignore')"
      ]
    },
    {
      "cell_type": "markdown",
      "source": [
        "interpretasi:\n",
        "\n",
        "mengimport library yang diperlukan"
      ],
      "metadata": {
        "id": "PrGaPdc9Mxar"
      }
    },
    {
      "cell_type": "code",
      "execution_count": null,
      "metadata": {
        "colab": {
          "base_uri": "https://localhost:8080/"
        },
        "id": "GrIO7X5kf_tJ",
        "outputId": "656910ae-b682-4782-da85-57102d8682ab"
      },
      "outputs": [
        {
          "output_type": "stream",
          "name": "stdout",
          "text": [
            "Mounted at /content/drive\n"
          ]
        }
      ],
      "source": [
        "#Load Data\n",
        "from google.colab import drive\n",
        "drive.mount('/content/drive')"
      ]
    },
    {
      "cell_type": "code",
      "execution_count": null,
      "metadata": {
        "id": "bNyJV2P050Tm"
      },
      "outputs": [],
      "source": [
        "#path ='/content/drive/MyDrive/tahap-penyisihan-oq-dataquestua/train.csv'\n",
        "train = pd.read_csv('/content/drive/MyDrive/Daladida/train.csv')\n",
        "test = pd.read_csv('/content/drive/MyDrive/Daladida/test.csv')\n",
        "#oad_data_cr =pd.read_csv(path)\n",
        "load_data_cr"
      ]
    },
    {
      "cell_type": "code",
      "source": [
        "# Hitung statistik deskriptif\n",
        "deskriptif = train.describe()\n",
        "\n",
        "# Cetak hasil\n",
        "print(deskriptif)"
      ],
      "metadata": {
        "colab": {
          "base_uri": "https://localhost:8080/"
        },
        "id": "pua8ia825yga",
        "outputId": "63c849b0-3b7f-4c1f-bc9a-363c6424ff52"
      },
      "execution_count": null,
      "outputs": [
        {
          "output_type": "stream",
          "name": "stdout",
          "text": [
            "                id  Alkalinity, total       Calcium     Chloride     Fluoride  \\\n",
            "count  6400.000000        6400.000000   6400.000000  6400.000000  6400.000000   \n",
            "mean   3199.500000         167.151047     69.350432    53.213620     0.333625   \n",
            "std    1847.665193          83.157803   1052.136452    92.934505     0.452473   \n",
            "min       0.000000          12.000000      0.610000     0.580000     0.049000   \n",
            "25%    1599.750000         110.000000     25.000000    11.000000     0.140000   \n",
            "50%    3199.500000         153.500000     45.000000    28.000000     0.210000   \n",
            "75%    4799.250000         209.000000     72.000000    62.000000     0.382250   \n",
            "max    6399.000000        1000.000000  83000.000000  2100.000000     9.000000   \n",
            "\n",
            "          Magnesium  Nitrate as N        Sodium  Specific Conductivity  \\\n",
            "count   6400.000000   6400.000000   6400.000000            6400.000000   \n",
            "mean      23.446335      3.382707     62.437731             637.631953   \n",
            "std      325.389503      4.878279    556.891904             597.297274   \n",
            "min        0.051000      0.002300      1.300000              40.000000   \n",
            "25%        7.300000      0.850000     21.000000             340.000000   \n",
            "50%       14.000000      2.000000     35.000000             520.000000   \n",
            "75%       25.000000      4.300000     60.000000             800.000000   \n",
            "max    26000.000000    106.000000  32000.000000           31400.000000   \n",
            "\n",
            "           Sulfate  Total Dissolved Solids     Hardness  \n",
            "count  6400.000000             6400.000000  6400.000000  \n",
            "mean     71.645934              409.570669   216.148203  \n",
            "std     108.414049              302.958442   161.431526  \n",
            "min       0.140000               19.580000     2.500000  \n",
            "25%      13.000000              220.000000   101.000000  \n",
            "50%      33.000000              320.000000   180.000000  \n",
            "75%      85.000000              500.000000   281.000000  \n",
            "max    2000.000000             4100.000000  1901.000000  \n"
          ]
        }
      ]
    },
    {
      "cell_type": "code",
      "source": [
        "persentil_75 = train['Sodium'].quantile(0.75)\n",
        "rata2 = np.mean(test['Alkalinity, total'])\n",
        "rata2\n",
        "#kondisi1\n",
        "kondisi1 = train['Sodium']> persentil_75\n",
        "\n",
        "#kondisi2\n",
        "kondisi2 = train['Alkalinity, total']>rata2\n",
        "\n",
        "# Ambil data di atas rata-rata\n",
        "data_diatas_rata = train[kondisi1 & kondisi2]\n",
        "meani = np.mean(data_diatas_rata['Hardness'])\n",
        "# Cetak hasil\n",
        "print(meani)"
      ],
      "metadata": {
        "colab": {
          "base_uri": "https://localhost:8080/"
        },
        "id": "vqQVa2lkCfhX",
        "outputId": "94af7da0-06f7-4eed-c433-158b0075aeb6"
      },
      "execution_count": null,
      "outputs": [
        {
          "output_type": "stream",
          "name": "stdout",
          "text": [
            "383.22241976516636\n"
          ]
        }
      ]
    },
    {
      "cell_type": "markdown",
      "source": [
        "menghitung nilai mean kesadahan dimana jika memiliki alkalinity diatas rata2 dan kadar sodium diatas 75 maka rata-rata kesadahan sebesar 383.22 yang bermakna jika air memiliki alkalinity diatas rata2 dan kadar sodium diatas persentil 75 maka Kadar kesadahan tersebut memenuhi standar parameter kesadahan untuk persyaratan kualitas air minum menurut Permenkes nomor 492/Menkes/IV/2010 yaitu sebesar < 500 mg/L"
      ],
      "metadata": {
        "id": "ZJGKZzO-Pilr"
      }
    },
    {
      "cell_type": "code",
      "source": [
        "import pandas as pd\n",
        "import matplotlib.pyplot as plt\n",
        "\n",
        "# Kolom yang ingin dianalisis\n",
        "kolom = 'Alkalinity, total'\n",
        "\n",
        "# Buat plot boxplot\n",
        "plt.figure(figsize=(10, 6))\n",
        "plt.boxplot(train['Alkalinity, total'], vert=False, patch_artist=True)  # Atur orientasi horizontal\n",
        "plt.xlabel(kolom)\n",
        "plt.ylabel(\"Nilai\")\n",
        "plt.title(f\"Boxplot untuk {'Alkalinity'}\")\n",
        "plt.grid(True)\n",
        "plt.show()"
      ],
      "metadata": {
        "colab": {
          "base_uri": "https://localhost:8080/",
          "height": 564
        },
        "id": "QH8AwTSDKPhx",
        "outputId": "ce11b2ae-a18b-4769-b398-5dd7b0218b0e"
      },
      "execution_count": null,
      "outputs": [
        {
          "output_type": "display_data",
          "data": {
            "text/plain": [
              "<Figure size 1000x600 with 1 Axes>"
            ],
            "image/png": "[encoded data removed]"
          },
          "metadata": {}
        }
      ]
    },
    {
      "cell_type": "code",
      "execution_count": null,
      "metadata": {
        "colab": {
          "base_uri": "https://localhost:8080/",
          "height": 223
        },
        "id": "c8tMLbpI80IP",
        "outputId": "59bc2669-c163-44ad-f7ec-2d25c6d6c264"
      },
      "outputs": [
        {
          "output_type": "execute_result",
          "data": {
            "text/plain": [
              "   id  Alkalinity, total  Calcium  Chloride  Fluoride  Magnesium  \\\n",
              "0   0              120.0     24.0       6.9     0.314        7.1   \n",
              "1   1              140.0     41.0      11.0     0.150        6.5   \n",
              "2   2              160.0     51.0       9.0     0.450        9.1   \n",
              "3   3               46.0     13.0       2.9     0.120        2.7   \n",
              "4   4              240.0    147.0      70.0     0.600       48.0   \n",
              "\n",
              "   Nitrate as N  Sodium  Specific Conductivity  Sulfate  \\\n",
              "0         0.498    48.0                  510.0     23.2   \n",
              "1         0.950    19.0                  300.0      8.5   \n",
              "2         2.500    12.0                  370.0     25.0   \n",
              "3         0.430     6.4                  110.0      5.0   \n",
              "4         6.800    93.0                 1410.0    418.0   \n",
              "\n",
              "   Total Dissolved Solids  Hardness  \n",
              "0                   240.0      90.4  \n",
              "1                   190.0     130.0  \n",
              "2                   230.0     160.0  \n",
              "3                    97.0      41.0  \n",
              "4                   950.0     586.0  "
            ],
            "text/html": [
              "\n",
              "  <div id=\"df-5fa44704-484a-408d-8d65-d38c9b8c3b26\" class=\"colab-df-container\">\n",
              "    <div>\n",
              "<style scoped>\n",
              "    .dataframe tbody tr th:only-of-type {\n",
              "        vertical-align: middle;\n",
              "    }\n",
              "\n",
              "    .dataframe tbody tr th {\n",
              "        vertical-align: top;\n",
              "    }\n",
              "\n",
              "    .dataframe thead th {\n",
              "        text-align: right;\n",
              "    }\n",
              "</style>\n",
              "<table border=\"1\" class=\"dataframe\">\n",
              "  <thead>\n",
              "    <tr style=\"text-align: right;\">\n",
              "      <th></th>\n",
              "      <th>id</th>\n",
              "      <th>Alkalinity, total</th>\n",
              "      <th>Calcium</th>\n",
              "      <th>Chloride</th>\n",
              "      <th>Fluoride</th>\n",
              "      <th>Magnesium</th>\n",
              "      <th>Nitrate as N</th>\n",
              "      <th>Sodium</th>\n",
              "      <th>Specific Conductivity</th>\n",
              "      <th>Sulfate</th>\n",
              "      <th>Total Dissolved Solids</th>\n",
              "      <th>Hardness</th>\n",
              "    </tr>\n",
              "  </thead>\n",
              "  <tbody>\n",
              "    <tr>\n",
              "      <th>0</th>\n",
              "      <td>0</td>\n",
              "      <td>120.0</td>\n",
              "      <td>24.0</td>\n",
              "      <td>6.9</td>\n",
              "      <td>0.314</td>\n",
              "      <td>7.1</td>\n",
              "      <td>0.498</td>\n",
              "      <td>48.0</td>\n",
              "      <td>510.0</td>\n",
              "      <td>23.2</td>\n",
              "      <td>240.0</td>\n",
              "      <td>90.4</td>\n",
              "    </tr>\n",
              "    <tr>\n",
              "      <th>1</th>\n",
              "      <td>1</td>\n",
              "      <td>140.0</td>\n",
              "      <td>41.0</td>\n",
              "      <td>11.0</td>\n",
              "      <td>0.150</td>\n",
              "      <td>6.5</td>\n",
              "      <td>0.950</td>\n",
              "      <td>19.0</td>\n",
              "      <td>300.0</td>\n",
              "      <td>8.5</td>\n",
              "      <td>190.0</td>\n",
              "      <td>130.0</td>\n",
              "    </tr>\n",
              "    <tr>\n",
              "      <th>2</th>\n",
              "      <td>2</td>\n",
              "      <td>160.0</td>\n",
              "      <td>51.0</td>\n",
              "      <td>9.0</td>\n",
              "      <td>0.450</td>\n",
              "      <td>9.1</td>\n",
              "      <td>2.500</td>\n",
              "      <td>12.0</td>\n",
              "      <td>370.0</td>\n",
              "      <td>25.0</td>\n",
              "      <td>230.0</td>\n",
              "      <td>160.0</td>\n",
              "    </tr>\n",
              "    <tr>\n",
              "      <th>3</th>\n",
              "      <td>3</td>\n",
              "      <td>46.0</td>\n",
              "      <td>13.0</td>\n",
              "      <td>2.9</td>\n",
              "      <td>0.120</td>\n",
              "      <td>2.7</td>\n",
              "      <td>0.430</td>\n",
              "      <td>6.4</td>\n",
              "      <td>110.0</td>\n",
              "      <td>5.0</td>\n",
              "      <td>97.0</td>\n",
              "      <td>41.0</td>\n",
              "    </tr>\n",
              "    <tr>\n",
              "      <th>4</th>\n",
              "      <td>4</td>\n",
              "      <td>240.0</td>\n",
              "      <td>147.0</td>\n",
              "      <td>70.0</td>\n",
              "      <td>0.600</td>\n",
              "      <td>48.0</td>\n",
              "      <td>6.800</td>\n",
              "      <td>93.0</td>\n",
              "      <td>1410.0</td>\n",
              "      <td>418.0</td>\n",
              "      <td>950.0</td>\n",
              "      <td>586.0</td>\n",
              "    </tr>\n",
              "  </tbody>\n",
              "</table>\n",
              "</div>\n",
              "    <div class=\"colab-df-buttons\">\n",
              "\n",
              "  <div class=\"colab-df-container\">\n",
              "    <button class=\"colab-df-convert\" onclick=\"convertToInteractive('df-5fa44704-484a-408d-8d65-d38c9b8c3b26')\"\n",
              "            title=\"Convert this dataframe to an interactive table.\"\n",
              "            style=\"display:none;\">\n",
              "\n",
              "  <svg xmlns=\"http://www.w3.org/2000/svg\" height=\"24px\" viewBox=\"0 -960 960 960\">\n",
              "    <path d=\"M120-120v-720h720v720H120Zm60-500h600v-160H180v160Zm220 220h160v-160H400v160Zm0 220h160v-160H400v160ZM180-400h160v-160H180v160Zm440 0h160v-160H620v160ZM180-180h160v-160H180v160Zm440 0h160v-160H620v160Z\"/>\n",
              "  </svg>\n",
              "    </button>\n",
              "\n",
              "  <style>\n",
              "    .colab-df-container {\n",
              "      display:flex;\n",
              "      gap: 12px;\n",
              "    }\n",
              "\n",
              "    .colab-df-convert {\n",
              "      background-color: #E8F0FE;\n",
              "      border: none;\n",
              "      border-radius: 50%;\n",
              "      cursor: pointer;\n",
              "      display: none;\n",
              "      fill: #1967D2;\n",
              "      height: 32px;\n",
              "      padding: 0 0 0 0;\n",
              "      width: 32px;\n",
              "    }\n",
              "\n",
              "    .colab-df-convert:hover {\n",
              "      background-color: #E2EBFA;\n",
              "      box-shadow: 0px 1px 2px rgba(60, 64, 67, 0.3), 0px 1px 3px 1px rgba(60, 64, 67, 0.15);\n",
              "      fill: #174EA6;\n",
              "    }\n",
              "\n",
              "    .colab-df-buttons div {\n",
              "      margin-bottom: 4px;\n",
              "    }\n",
              "\n",
              "    [theme=dark] .colab-df-convert {\n",
              "      background-color: #3B4455;\n",
              "      fill: #D2E3FC;\n",
              "    }\n",
              "\n",
              "    [theme=dark] .colab-df-convert:hover {\n",
              "      background-color: #434B5C;\n",
              "      box-shadow: 0px 1px 3px 1px rgba(0, 0, 0, 0.15);\n",
              "      filter: drop-shadow(0px 1px 2px rgba(0, 0, 0, 0.3));\n",
              "      fill: #FFFFFF;\n",
              "    }\n",
              "  </style>\n",
              "\n",
              "    <script>\n",
              "      const buttonEl =\n",
              "        document.querySelector('#df-5fa44704-484a-408d-8d65-d38c9b8c3b26 button.colab-df-convert');\n",
              "      buttonEl.style.display =\n",
              "        google.colab.kernel.accessAllowed ? 'block' : 'none';\n",
              "\n",
              "      async function convertToInteractive(key) {\n",
              "        const element = document.querySelector('#df-5fa44704-484a-408d-8d65-d38c9b8c3b26');\n",
              "        const dataTable =\n",
              "          await google.colab.kernel.invokeFunction('convertToInteractive',\n",
              "                                                    [key], {});\n",
              "        if (!dataTable) return;\n",
              "\n",
              "        const docLinkHtml = 'Like what you see? Visit the ' +\n",
              "          '<a target=\"_blank\" href=https://colab.research.google.com/notebooks/data_table.ipynb>data table notebook</a>'\n",
              "          + ' to learn more about interactive tables.';\n",
              "        element.innerHTML = '';\n",
              "        dataTable['output_type'] = 'display_data';\n",
              "        await google.colab.output.renderOutput(dataTable, element);\n",
              "        const docLink = document.createElement('div');\n",
              "        docLink.innerHTML = docLinkHtml;\n",
              "        element.appendChild(docLink);\n",
              "      }\n",
              "    </script>\n",
              "  </div>\n",
              "\n",
              "\n",
              "<div id=\"df-8fda3af7-069d-4e3f-bfcf-207d5a787bb1\">\n",
              "  <button class=\"colab-df-quickchart\" onclick=\"quickchart('df-8fda3af7-069d-4e3f-bfcf-207d5a787bb1')\"\n",
              "            title=\"Suggest charts\"\n",
              "            style=\"display:none;\">\n",
              "\n",
              "<svg xmlns=\"http://www.w3.org/2000/svg\" height=\"24px\"viewBox=\"0 0 24 24\"\n",
              "     width=\"24px\">\n",
              "    <g>\n",
              "        <path d=\"M19 3H5c-1.1 0-2 .9-2 2v14c0 1.1.9 2 2 2h14c1.1 0 2-.9 2-2V5c0-1.1-.9-2-2-2zM9 17H7v-7h2v7zm4 0h-2V7h2v10zm4 0h-2v-4h2v4z\"/>\n",
              "    </g>\n",
              "</svg>\n",
              "  </button>\n",
              "\n",
              "<style>\n",
              "  .colab-df-quickchart {\n",
              "      --bg-color: #E8F0FE;\n",
              "      --fill-color: #1967D2;\n",
              "      --hover-bg-color: #E2EBFA;\n",
              "      --hover-fill-color: #174EA6;\n",
              "      --disabled-fill-color: #AAA;\n",
              "      --disabled-bg-color: #DDD;\n",
              "  }\n",
              "\n",
              "  [theme=dark] .colab-df-quickchart {\n",
              "      --bg-color: #3B4455;\n",
              "      --fill-color: #D2E3FC;\n",
              "      --hover-bg-color: #434B5C;\n",
              "      --hover-fill-color: #FFFFFF;\n",
              "      --disabled-bg-color: #3B4455;\n",
              "      --disabled-fill-color: #666;\n",
              "  }\n",
              "\n",
              "  .colab-df-quickchart {\n",
              "    background-color: var(--bg-color);\n",
              "    border: none;\n",
              "    border-radius: 50%;\n",
              "    cursor: pointer;\n",
              "    display: none;\n",
              "    fill: var(--fill-color);\n",
              "    height: 32px;\n",
              "    padding: 0;\n",
              "    width: 32px;\n",
              "  }\n",
              "\n",
              "  .colab-df-quickchart:hover {\n",
              "    background-color: var(--hover-bg-color);\n",
              "    box-shadow: 0 1px 2px rgba(60, 64, 67, 0.3), 0 1px 3px 1px rgba(60, 64, 67, 0.15);\n",
              "    fill: var(--button-hover-fill-color);\n",
              "  }\n",
              "\n",
              "  .colab-df-quickchart-complete:disabled,\n",
              "  .colab-df-quickchart-complete:disabled:hover {\n",
              "    background-color: var(--disabled-bg-color);\n",
              "    fill: var(--disabled-fill-color);\n",
              "    box-shadow: none;\n",
              "  }\n",
              "\n",
              "  .colab-df-spinner {\n",
              "    border: 2px solid var(--fill-color);\n",
              "    border-color: transparent;\n",
              "    border-bottom-color: var(--fill-color);\n",
              "    animation:\n",
              "      spin 1s steps(1) infinite;\n",
              "  }\n",
              "\n",
              "  @keyframes spin {\n",
              "    0% {\n",
              "      border-color: transparent;\n",
              "      border-bottom-color: var(--fill-color);\n",
              "      border-left-color: var(--fill-color);\n",
              "    }\n",
              "    20% {\n",
              "      border-color: transparent;\n",
              "      border-left-color: var(--fill-color);\n",
              "      border-top-color: var(--fill-color);\n",
              "    }\n",
              "    30% {\n",
              "      border-color: transparent;\n",
              "      border-left-color: var(--fill-color);\n",
              "      border-top-color: var(--fill-color);\n",
              "      border-right-color: var(--fill-color);\n",
              "    }\n",
              "    40% {\n",
              "      border-color: transparent;\n",
              "      border-right-color: var(--fill-color);\n",
              "      border-top-color: var(--fill-color);\n",
              "    }\n",
              "    60% {\n",
              "      border-color: transparent;\n",
              "      border-right-color: var(--fill-color);\n",
              "    }\n",
              "    80% {\n",
              "      border-color: transparent;\n",
              "      border-right-color: var(--fill-color);\n",
              "      border-bottom-color: var(--fill-color);\n",
              "    }\n",
              "    90% {\n",
              "      border-color: transparent;\n",
              "      border-bottom-color: var(--fill-color);\n",
              "    }\n",
              "  }\n",
              "</style>\n",
              "\n",
              "  <script>\n",
              "    async function quickchart(key) {\n",
              "      const quickchartButtonEl =\n",
              "        document.querySelector('#' + key + ' button');\n",
              "      quickchartButtonEl.disabled = true;  // To prevent multiple clicks.\n",
              "      quickchartButtonEl.classList.add('colab-df-spinner');\n",
              "      try {\n",
              "        const charts = await google.colab.kernel.invokeFunction(\n",
              "            'suggestCharts', [key], {});\n",
              "      } catch (error) {\n",
              "        console.error('Error during call to suggestCharts:', error);\n",
              "      }\n",
              "      quickchartButtonEl.classList.remove('colab-df-spinner');\n",
              "      quickchartButtonEl.classList.add('colab-df-quickchart-complete');\n",
              "    }\n",
              "    (() => {\n",
              "      let quickchartButtonEl =\n",
              "        document.querySelector('#df-8fda3af7-069d-4e3f-bfcf-207d5a787bb1 button');\n",
              "      quickchartButtonEl.style.display =\n",
              "        google.colab.kernel.accessAllowed ? 'block' : 'none';\n",
              "    })();\n",
              "  </script>\n",
              "</div>\n",
              "\n",
              "    </div>\n",
              "  </div>\n"
            ],
            "application/vnd.google.colaboratory.intrinsic+json": {
              "type": "dataframe",
              "variable_name": "train",
              "summary": "{\n  \"name\": \"train\",\n  \"rows\": 6400,\n  \"fields\": [\n    {\n      \"column\": \"id\",\n      \"properties\": {\n        \"dtype\": \"number\",\n        \"std\": 1847,\n        \"min\": 0,\n        \"max\": 6399,\n        \"num_unique_values\": 6400,\n        \"samples\": [\n          1992,\n          2775,\n          4162\n        ],\n        \"semantic_type\": \"\",\n        \"description\": \"\"\n      }\n    },\n    {\n      \"column\": \"Alkalinity, total\",\n      \"properties\": {\n        \"dtype\": \"number\",\n        \"std\": 83.15780330063338,\n        \"min\": 12.0,\n        \"max\": 1000.0,\n        \"num_unique_values\": 466,\n        \"samples\": [\n          97.0,\n          157.0,\n          198.0\n        ],\n        \"semantic_type\": \"\",\n        \"description\": \"\"\n      }\n    },\n    {\n      \"column\": \"Calcium\",\n      \"properties\": {\n        \"dtype\": \"number\",\n        \"std\": 1052.1364516850285,\n        \"min\": 0.61,\n        \"max\": 83000.0,\n        \"num_unique_values\": 734,\n        \"samples\": [\n          42.3,\n          25.0,\n          61.6\n        ],\n        \"semantic_type\": \"\",\n        \"description\": \"\"\n      }\n    },\n    {\n      \"column\": \"Chloride\",\n      \"properties\": {\n        \"dtype\": \"number\",\n        \"std\": 92.93450531942872,\n        \"min\": 0.58,\n        \"max\": 2100.0,\n        \"num_unique_values\": 753,\n        \"samples\": [\n          58.9,\n          46.3,\n          34.5\n        ],\n        \"semantic_type\": \"\",\n        \"description\": \"\"\n      }\n    },\n    {\n      \"column\": \"Fluoride\",\n      \"properties\": {\n        \"dtype\": \"number\",\n        \"std\": 0.45247268594727286,\n        \"min\": 0.049,\n        \"max\": 9.0,\n        \"num_unique_values\": 315,\n        \"samples\": [\n          5.1,\n          0.49,\n          0.85\n        ],\n        \"semantic_type\": \"\",\n        \"description\": \"\"\n      }\n    },\n    {\n      \"column\": \"Magnesium\",\n      \"properties\": {\n        \"dtype\": \"number\",\n        \"std\": 325.3895032002857,\n        \"min\": 0.051,\n        \"max\": 26000.0,\n        \"num_unique_values\": 665,\n        \"samples\": [\n          42.1,\n          6.53,\n          4.59\n        ],\n        \"semantic_type\": \"\",\n        \"description\": \"\"\n      }\n    },\n    {\n      \"column\": \"Nitrate as N\",\n      \"properties\": {\n        \"dtype\": \"number\",\n        \"std\": 4.878279385823561,\n        \"min\": 0.0023,\n        \"max\": 106.0,\n        \"num_unique_values\": 899,\n        \"samples\": [\n          1.73,\n          3.66,\n          0.897\n        ],\n        \"semantic_type\": \"\",\n        \"description\": \"\"\n      }\n    },\n    {\n      \"column\": \"Sodium\",\n      \"properties\": {\n        \"dtype\": \"number\",\n        \"std\": 556.891904058765,\n        \"min\": 1.3,\n        \"max\": 32000.0,\n        \"num_unique_values\": 691,\n        \"samples\": [\n          203.0,\n          98.8,\n          61.763\n        ],\n        \"semantic_type\": \"\",\n        \"description\": \"\"\n      }\n    },\n    {\n      \"column\": \"Specific Conductivity\",\n      \"properties\": {\n        \"dtype\": \"number\",\n        \"std\": 597.2972740145201,\n        \"min\": 40.0,\n        \"max\": 31400.0,\n        \"num_unique_values\": 937,\n        \"samples\": [\n          2640.0,\n          530.0,\n          150.0\n        ],\n        \"semantic_type\": \"\",\n        \"description\": \"\"\n      }\n    },\n    {\n      \"column\": \"Sulfate\",\n      \"properties\": {\n        \"dtype\": \"number\",\n        \"std\": 108.41404876940364,\n        \"min\": 0.14,\n        \"max\": 2000.0,\n        \"num_unique_values\": 851,\n        \"samples\": [\n          9.8,\n          8.3,\n          50.2\n        ],\n        \"semantic_type\": \"\",\n        \"description\": \"\"\n      }\n    },\n    {\n      \"column\": \"Total Dissolved Solids\",\n      \"properties\": {\n        \"dtype\": \"number\",\n        \"std\": 302.95844223106144,\n        \"min\": 19.58,\n        \"max\": 4100.0,\n        \"num_unique_values\": 657,\n        \"samples\": [\n          423.0,\n          441.0,\n          833.0\n        ],\n        \"semantic_type\": \"\",\n        \"description\": \"\"\n      }\n    },\n    {\n      \"column\": \"Hardness\",\n      \"properties\": {\n        \"dtype\": \"number\",\n        \"std\": 161.43152631877237,\n        \"min\": 2.5,\n        \"max\": 1901.0,\n        \"num_unique_values\": 873,\n        \"samples\": [\n          790.0,\n          101.0,\n          124.612\n        ],\n        \"semantic_type\": \"\",\n        \"description\": \"\"\n      }\n    }\n  ]\n}"
            }
          },
          "metadata": {},
          "execution_count": 4
        }
      ],
      "source": [
        "train.head()"
      ]
    },
    {
      "cell_type": "code",
      "execution_count": null,
      "metadata": {
        "colab": {
          "base_uri": "https://localhost:8080/"
        },
        "id": "Zm2IJKN4eSaN",
        "outputId": "f8ea11f4-a301-409f-e79d-05ceb2f0aa76"
      },
      "outputs": [
        {
          "output_type": "stream",
          "name": "stdout",
          "text": [
            "<class 'pandas.core.frame.DataFrame'>\n",
            "RangeIndex: 6400 entries, 0 to 6399\n",
            "Data columns (total 12 columns):\n",
            " #   Column                  Non-Null Count  Dtype  \n",
            "---  ------                  --------------  -----  \n",
            " 0   id                      6400 non-null   int64  \n",
            " 1   Alkalinity, total       6400 non-null   float64\n",
            " 2   Calcium                 6400 non-null   float64\n",
            " 3   Chloride                6400 non-null   float64\n",
            " 4   Fluoride                6400 non-null   float64\n",
            " 5   Magnesium               6400 non-null   float64\n",
            " 6   Nitrate as N            6400 non-null   float64\n",
            " 7   Sodium                  6400 non-null   float64\n",
            " 8   Specific Conductivity   6400 non-null   float64\n",
            " 9   Sulfate                 6400 non-null   float64\n",
            " 10  Total Dissolved Solids  6400 non-null   float64\n",
            " 11  Hardness                6400 non-null   float64\n",
            "dtypes: float64(11), int64(1)\n",
            "memory usage: 600.1 KB\n"
          ]
        }
      ],
      "source": [
        "train.info()"
      ]
    },
    {
      "cell_type": "markdown",
      "metadata": {
        "id": "2E2Jx-78gN3i"
      },
      "source": [
        "penjelasan:\n",
        "\n",
        "didapati bahwa terdapat 21 atribut untuk prediksi cuaca pada IKN maka diperlu pengecekan apakah terjadi missinvalue data"
      ]
    },
    {
      "cell_type": "code",
      "execution_count": null,
      "metadata": {
        "colab": {
          "base_uri": "https://localhost:8080/"
        },
        "id": "BoCfAzKxVV3N",
        "outputId": "53b8f9f0-0876-4f21-f59c-cf0e0676e5a2"
      },
      "outputs": [
        {
          "output_type": "execute_result",
          "data": {
            "text/plain": [
              "id                        0\n",
              "Alkalinity, total         0\n",
              "Calcium                   0\n",
              "Chloride                  0\n",
              "Fluoride                  0\n",
              "Magnesium                 0\n",
              "Nitrate as N              0\n",
              "Sodium                    0\n",
              "Specific Conductivity     0\n",
              "Sulfate                   0\n",
              "Total Dissolved Solids    0\n",
              "Hardness                  0\n",
              "dtype: int64"
            ]
          },
          "metadata": {},
          "execution_count": 6
        }
      ],
      "source": [
        "train.isnull().sum()"
      ]
    },
    {
      "cell_type": "markdown",
      "metadata": {
        "id": "qnsBXvEPgkl7"
      },
      "source": [
        "penjelasan:\n",
        "\n",
        "pada data train pengecekan missing value tidak dapati missing value"
      ]
    },
    {
      "cell_type": "code",
      "execution_count": null,
      "metadata": {
        "colab": {
          "base_uri": "https://localhost:8080/"
        },
        "id": "cZuuQZvS9DJo",
        "outputId": "f40157a5-11ef-412a-ae1d-9425c474f658"
      },
      "outputs": [
        {
          "output_type": "execute_result",
          "data": {
            "text/plain": [
              "id                        0\n",
              "Alkalinity, total         0\n",
              "Calcium                   0\n",
              "Chloride                  0\n",
              "Fluoride                  0\n",
              "Magnesium                 0\n",
              "Nitrate as N              0\n",
              "Sodium                    0\n",
              "Specific Conductivity     0\n",
              "Sulfate                   0\n",
              "Total Dissolved Solids    0\n",
              "dtype: int64"
            ]
          },
          "metadata": {},
          "execution_count": 7
        }
      ],
      "source": [
        "test.isnull().sum()"
      ]
    },
    {
      "cell_type": "markdown",
      "metadata": {
        "id": "tAvZR3FRgbg7"
      },
      "source": [
        "penjelasan:\n",
        "\n",
        "pada data train pengecekan missing value tidak dapati missing value"
      ]
    },
    {
      "cell_type": "code",
      "source": [
        "#membuat data frame\n",
        "#agar tidak memenuhi source\n",
        "df_test = pd.DataFrame(test)\n",
        "df_test"
      ],
      "metadata": {
        "colab": {
          "base_uri": "https://localhost:8080/",
          "height": 423
        },
        "id": "WeZL7vaEE4i0",
        "outputId": "c6ffd951-762e-424d-b00b-a6a2b1b41d96"
      },
      "execution_count": null,
      "outputs": [
        {
          "output_type": "execute_result",
          "data": {
            "text/plain": [
              "        id  Alkalinity, total  Calcium  Chloride  Fluoride  Magnesium  \\\n",
              "0     6400               93.0     15.9       3.6     0.100      11.90   \n",
              "1     6401              180.0     34.0     200.0     1.900       8.20   \n",
              "2     6402               95.0     44.0      35.0     0.081       3.30   \n",
              "3     6403              110.0     29.0      12.0     0.250       6.00   \n",
              "4     6404              179.0     59.0      51.7     0.160      45.00   \n",
              "...    ...                ...      ...       ...       ...        ...   \n",
              "1596  7996               88.0     30.0      11.0     0.170       3.20   \n",
              "1597  7997               64.0     21.0      18.0     0.050       0.68   \n",
              "1598  7998              210.0     32.0      53.0     0.150      24.00   \n",
              "1599  7999              230.0     82.0      14.0     0.100       9.00   \n",
              "1600  8000              190.0     13.0       9.3     0.150      30.00   \n",
              "\n",
              "      Nitrate as N  Sodium  Specific Conductivity  Sulfate  \\\n",
              "0            1.400    12.7                  208.0      6.5   \n",
              "1            1.300   300.0                 1700.0    210.0   \n",
              "2            1.100    28.0                  390.0     22.0   \n",
              "3            0.150    23.0                  283.0     15.0   \n",
              "4            4.100    64.0                  976.0    170.0   \n",
              "...            ...     ...                    ...      ...   \n",
              "1596         1.217    24.0                  289.0     22.0   \n",
              "1597         4.700    31.0                  327.0     28.0   \n",
              "1598         0.120    68.0                  570.0     25.0   \n",
              "1599         2.000    19.0                  580.0     24.0   \n",
              "1600         0.560    11.0                  400.0      7.4   \n",
              "\n",
              "      Total Dissolved Solids  \n",
              "0                      156.0  \n",
              "1                      860.0  \n",
              "2                      240.0  \n",
              "3                      190.0  \n",
              "4                      430.0  \n",
              "...                      ...  \n",
              "1596                   140.0  \n",
              "1597                   160.0  \n",
              "1598                   670.0  \n",
              "1599                   310.0  \n",
              "1600                   220.0  \n",
              "\n",
              "[1601 rows x 11 columns]"
            ],
            "text/html": [
              "\n",
              "  <div id=\"df-6d266949-d536-4cf8-ad85-86ca3825e131\" class=\"colab-df-container\">\n",
              "    <div>\n",
              "<style scoped>\n",
              "    .dataframe tbody tr th:only-of-type {\n",
              "        vertical-align: middle;\n",
              "    }\n",
              "\n",
              "    .dataframe tbody tr th {\n",
              "        vertical-align: top;\n",
              "    }\n",
              "\n",
              "    .dataframe thead th {\n",
              "        text-align: right;\n",
              "    }\n",
              "</style>\n",
              "<table border=\"1\" class=\"dataframe\">\n",
              "  <thead>\n",
              "    <tr style=\"text-align: right;\">\n",
              "      <th></th>\n",
              "      <th>id</th>\n",
              "      <th>Alkalinity, total</th>\n",
              "      <th>Calcium</th>\n",
              "      <th>Chloride</th>\n",
              "      <th>Fluoride</th>\n",
              "      <th>Magnesium</th>\n",
              "      <th>Nitrate as N</th>\n",
              "      <th>Sodium</th>\n",
              "      <th>Specific Conductivity</th>\n",
              "      <th>Sulfate</th>\n",
              "      <th>Total Dissolved Solids</th>\n",
              "    </tr>\n",
              "  </thead>\n",
              "  <tbody>\n",
              "    <tr>\n",
              "      <th>0</th>\n",
              "      <td>6400</td>\n",
              "      <td>93.0</td>\n",
              "      <td>15.9</td>\n",
              "      <td>3.6</td>\n",
              "      <td>0.100</td>\n",
              "      <td>11.90</td>\n",
              "      <td>1.400</td>\n",
              "      <td>12.7</td>\n",
              "      <td>208.0</td>\n",
              "      <td>6.5</td>\n",
              "      <td>156.0</td>\n",
              "    </tr>\n",
              "    <tr>\n",
              "      <th>1</th>\n",
              "      <td>6401</td>\n",
              "      <td>180.0</td>\n",
              "      <td>34.0</td>\n",
              "      <td>200.0</td>\n",
              "      <td>1.900</td>\n",
              "      <td>8.20</td>\n",
              "      <td>1.300</td>\n",
              "      <td>300.0</td>\n",
              "      <td>1700.0</td>\n",
              "      <td>210.0</td>\n",
              "      <td>860.0</td>\n",
              "    </tr>\n",
              "    <tr>\n",
              "      <th>2</th>\n",
              "      <td>6402</td>\n",
              "      <td>95.0</td>\n",
              "      <td>44.0</td>\n",
              "      <td>35.0</td>\n",
              "      <td>0.081</td>\n",
              "      <td>3.30</td>\n",
              "      <td>1.100</td>\n",
              "      <td>28.0</td>\n",
              "      <td>390.0</td>\n",
              "      <td>22.0</td>\n",
              "      <td>240.0</td>\n",
              "    </tr>\n",
              "    <tr>\n",
              "      <th>3</th>\n",
              "      <td>6403</td>\n",
              "      <td>110.0</td>\n",
              "      <td>29.0</td>\n",
              "      <td>12.0</td>\n",
              "      <td>0.250</td>\n",
              "      <td>6.00</td>\n",
              "      <td>0.150</td>\n",
              "      <td>23.0</td>\n",
              "      <td>283.0</td>\n",
              "      <td>15.0</td>\n",
              "      <td>190.0</td>\n",
              "    </tr>\n",
              "    <tr>\n",
              "      <th>4</th>\n",
              "      <td>6404</td>\n",
              "      <td>179.0</td>\n",
              "      <td>59.0</td>\n",
              "      <td>51.7</td>\n",
              "      <td>0.160</td>\n",
              "      <td>45.00</td>\n",
              "      <td>4.100</td>\n",
              "      <td>64.0</td>\n",
              "      <td>976.0</td>\n",
              "      <td>170.0</td>\n",
              "      <td>430.0</td>\n",
              "    </tr>\n",
              "    <tr>\n",
              "      <th>...</th>\n",
              "      <td>...</td>\n",
              "      <td>...</td>\n",
              "      <td>...</td>\n",
              "      <td>...</td>\n",
              "      <td>...</td>\n",
              "      <td>...</td>\n",
              "      <td>...</td>\n",
              "      <td>...</td>\n",
              "      <td>...</td>\n",
              "      <td>...</td>\n",
              "      <td>...</td>\n",
              "    </tr>\n",
              "    <tr>\n",
              "      <th>1596</th>\n",
              "      <td>7996</td>\n",
              "      <td>88.0</td>\n",
              "      <td>30.0</td>\n",
              "      <td>11.0</td>\n",
              "      <td>0.170</td>\n",
              "      <td>3.20</td>\n",
              "      <td>1.217</td>\n",
              "      <td>24.0</td>\n",
              "      <td>289.0</td>\n",
              "      <td>22.0</td>\n",
              "      <td>140.0</td>\n",
              "    </tr>\n",
              "    <tr>\n",
              "      <th>1597</th>\n",
              "      <td>7997</td>\n",
              "      <td>64.0</td>\n",
              "      <td>21.0</td>\n",
              "      <td>18.0</td>\n",
              "      <td>0.050</td>\n",
              "      <td>0.68</td>\n",
              "      <td>4.700</td>\n",
              "      <td>31.0</td>\n",
              "      <td>327.0</td>\n",
              "      <td>28.0</td>\n",
              "      <td>160.0</td>\n",
              "    </tr>\n",
              "    <tr>\n",
              "      <th>1598</th>\n",
              "      <td>7998</td>\n",
              "      <td>210.0</td>\n",
              "      <td>32.0</td>\n",
              "      <td>53.0</td>\n",
              "      <td>0.150</td>\n",
              "      <td>24.00</td>\n",
              "      <td>0.120</td>\n",
              "      <td>68.0</td>\n",
              "      <td>570.0</td>\n",
              "      <td>25.0</td>\n",
              "      <td>670.0</td>\n",
              "    </tr>\n",
              "    <tr>\n",
              "      <th>1599</th>\n",
              "      <td>7999</td>\n",
              "      <td>230.0</td>\n",
              "      <td>82.0</td>\n",
              "      <td>14.0</td>\n",
              "      <td>0.100</td>\n",
              "      <td>9.00</td>\n",
              "      <td>2.000</td>\n",
              "      <td>19.0</td>\n",
              "      <td>580.0</td>\n",
              "      <td>24.0</td>\n",
              "      <td>310.0</td>\n",
              "    </tr>\n",
              "    <tr>\n",
              "      <th>1600</th>\n",
              "      <td>8000</td>\n",
              "      <td>190.0</td>\n",
              "      <td>13.0</td>\n",
              "      <td>9.3</td>\n",
              "      <td>0.150</td>\n",
              "      <td>30.00</td>\n",
              "      <td>0.560</td>\n",
              "      <td>11.0</td>\n",
              "      <td>400.0</td>\n",
              "      <td>7.4</td>\n",
              "      <td>220.0</td>\n",
              "    </tr>\n",
              "  </tbody>\n",
              "</table>\n",
              "<p>1601 rows × 11 columns</p>\n",
              "</div>\n",
              "    <div class=\"colab-df-buttons\">\n",
              "\n",
              "  <div class=\"colab-df-container\">\n",
              "    <button class=\"colab-df-convert\" onclick=\"convertToInteractive('df-6d266949-d536-4cf8-ad85-86ca3825e131')\"\n",
              "            title=\"Convert this dataframe to an interactive table.\"\n",
              "            style=\"display:none;\">\n",
              "\n",
              "  <svg xmlns=\"http://www.w3.org/2000/svg\" height=\"24px\" viewBox=\"0 -960 960 960\">\n",
              "    <path d=\"M120-120v-720h720v720H120Zm60-500h600v-160H180v160Zm220 220h160v-160H400v160Zm0 220h160v-160H400v160ZM180-400h160v-160H180v160Zm440 0h160v-160H620v160ZM180-180h160v-160H180v160Zm440 0h160v-160H620v160Z\"/>\n",
              "  </svg>\n",
              "    </button>\n",
              "\n",
              "  <style>\n",
              "    .colab-df-container {\n",
              "      display:flex;\n",
              "      gap: 12px;\n",
              "    }\n",
              "\n",
              "    .colab-df-convert {\n",
              "      background-color: #E8F0FE;\n",
              "      border: none;\n",
              "      border-radius: 50%;\n",
              "      cursor: pointer;\n",
              "      display: none;\n",
              "      fill: #1967D2;\n",
              "      height: 32px;\n",
              "      padding: 0 0 0 0;\n",
              "      width: 32px;\n",
              "    }\n",
              "\n",
              "    .colab-df-convert:hover {\n",
              "      background-color: #E2EBFA;\n",
              "      box-shadow: 0px 1px 2px rgba(60, 64, 67, 0.3), 0px 1px 3px 1px rgba(60, 64, 67, 0.15);\n",
              "      fill: #174EA6;\n",
              "    }\n",
              "\n",
              "    .colab-df-buttons div {\n",
              "      margin-bottom: 4px;\n",
              "    }\n",
              "\n",
              "    [theme=dark] .colab-df-convert {\n",
              "      background-color: #3B4455;\n",
              "      fill: #D2E3FC;\n",
              "    }\n",
              "\n",
              "    [theme=dark] .colab-df-convert:hover {\n",
              "      background-color: #434B5C;\n",
              "      box-shadow: 0px 1px 3px 1px rgba(0, 0, 0, 0.15);\n",
              "      filter: drop-shadow(0px 1px 2px rgba(0, 0, 0, 0.3));\n",
              "      fill: #FFFFFF;\n",
              "    }\n",
              "  </style>\n",
              "\n",
              "    <script>\n",
              "      const buttonEl =\n",
              "        document.querySelector('#df-6d266949-d536-4cf8-ad85-86ca3825e131 button.colab-df-convert');\n",
              "      buttonEl.style.display =\n",
              "        google.colab.kernel.accessAllowed ? 'block' : 'none';\n",
              "\n",
              "      async function convertToInteractive(key) {\n",
              "        const element = document.querySelector('#df-6d266949-d536-4cf8-ad85-86ca3825e131');\n",
              "        const dataTable =\n",
              "          await google.colab.kernel.invokeFunction('convertToInteractive',\n",
              "                                                    [key], {});\n",
              "        if (!dataTable) return;\n",
              "\n",
              "        const docLinkHtml = 'Like what you see? Visit the ' +\n",
              "          '<a target=\"_blank\" href=https://colab.research.google.com/notebooks/data_table.ipynb>data table notebook</a>'\n",
              "          + ' to learn more about interactive tables.';\n",
              "        element.innerHTML = '';\n",
              "        dataTable['output_type'] = 'display_data';\n",
              "        await google.colab.output.renderOutput(dataTable, element);\n",
              "        const docLink = document.createElement('div');\n",
              "        docLink.innerHTML = docLinkHtml;\n",
              "        element.appendChild(docLink);\n",
              "      }\n",
              "    </script>\n",
              "  </div>\n",
              "\n",
              "\n",
              "<div id=\"df-55130873-6884-42cb-8de9-bc394185ae71\">\n",
              "  <button class=\"colab-df-quickchart\" onclick=\"quickchart('df-55130873-6884-42cb-8de9-bc394185ae71')\"\n",
              "            title=\"Suggest charts\"\n",
              "            style=\"display:none;\">\n",
              "\n",
              "<svg xmlns=\"http://www.w3.org/2000/svg\" height=\"24px\"viewBox=\"0 0 24 24\"\n",
              "     width=\"24px\">\n",
              "    <g>\n",
              "        <path d=\"M19 3H5c-1.1 0-2 .9-2 2v14c0 1.1.9 2 2 2h14c1.1 0 2-.9 2-2V5c0-1.1-.9-2-2-2zM9 17H7v-7h2v7zm4 0h-2V7h2v10zm4 0h-2v-4h2v4z\"/>\n",
              "    </g>\n",
              "</svg>\n",
              "  </button>\n",
              "\n",
              "<style>\n",
              "  .colab-df-quickchart {\n",
              "      --bg-color: #E8F0FE;\n",
              "      --fill-color: #1967D2;\n",
              "      --hover-bg-color: #E2EBFA;\n",
              "      --hover-fill-color: #174EA6;\n",
              "      --disabled-fill-color: #AAA;\n",
              "      --disabled-bg-color: #DDD;\n",
              "  }\n",
              "\n",
              "  [theme=dark] .colab-df-quickchart {\n",
              "      --bg-color: #3B4455;\n",
              "      --fill-color: #D2E3FC;\n",
              "      --hover-bg-color: #434B5C;\n",
              "      --hover-fill-color: #FFFFFF;\n",
              "      --disabled-bg-color: #3B4455;\n",
              "      --disabled-fill-color: #666;\n",
              "  }\n",
              "\n",
              "  .colab-df-quickchart {\n",
              "    background-color: var(--bg-color);\n",
              "    border: none;\n",
              "    border-radius: 50%;\n",
              "    cursor: pointer;\n",
              "    display: none;\n",
              "    fill: var(--fill-color);\n",
              "    height: 32px;\n",
              "    padding: 0;\n",
              "    width: 32px;\n",
              "  }\n",
              "\n",
              "  .colab-df-quickchart:hover {\n",
              "    background-color: var(--hover-bg-color);\n",
              "    box-shadow: 0 1px 2px rgba(60, 64, 67, 0.3), 0 1px 3px 1px rgba(60, 64, 67, 0.15);\n",
              "    fill: var(--button-hover-fill-color);\n",
              "  }\n",
              "\n",
              "  .colab-df-quickchart-complete:disabled,\n",
              "  .colab-df-quickchart-complete:disabled:hover {\n",
              "    background-color: var(--disabled-bg-color);\n",
              "    fill: var(--disabled-fill-color);\n",
              "    box-shadow: none;\n",
              "  }\n",
              "\n",
              "  .colab-df-spinner {\n",
              "    border: 2px solid var(--fill-color);\n",
              "    border-color: transparent;\n",
              "    border-bottom-color: var(--fill-color);\n",
              "    animation:\n",
              "      spin 1s steps(1) infinite;\n",
              "  }\n",
              "\n",
              "  @keyframes spin {\n",
              "    0% {\n",
              "      border-color: transparent;\n",
              "      border-bottom-color: var(--fill-color);\n",
              "      border-left-color: var(--fill-color);\n",
              "    }\n",
              "    20% {\n",
              "      border-color: transparent;\n",
              "      border-left-color: var(--fill-color);\n",
              "      border-top-color: var(--fill-color);\n",
              "    }\n",
              "    30% {\n",
              "      border-color: transparent;\n",
              "      border-left-color: var(--fill-color);\n",
              "      border-top-color: var(--fill-color);\n",
              "      border-right-color: var(--fill-color);\n",
              "    }\n",
              "    40% {\n",
              "      border-color: transparent;\n",
              "      border-right-color: var(--fill-color);\n",
              "      border-top-color: var(--fill-color);\n",
              "    }\n",
              "    60% {\n",
              "      border-color: transparent;\n",
              "      border-right-color: var(--fill-color);\n",
              "    }\n",
              "    80% {\n",
              "      border-color: transparent;\n",
              "      border-right-color: var(--fill-color);\n",
              "      border-bottom-color: var(--fill-color);\n",
              "    }\n",
              "    90% {\n",
              "      border-color: transparent;\n",
              "      border-bottom-color: var(--fill-color);\n",
              "    }\n",
              "  }\n",
              "</style>\n",
              "\n",
              "  <script>\n",
              "    async function quickchart(key) {\n",
              "      const quickchartButtonEl =\n",
              "        document.querySelector('#' + key + ' button');\n",
              "      quickchartButtonEl.disabled = true;  // To prevent multiple clicks.\n",
              "      quickchartButtonEl.classList.add('colab-df-spinner');\n",
              "      try {\n",
              "        const charts = await google.colab.kernel.invokeFunction(\n",
              "            'suggestCharts', [key], {});\n",
              "      } catch (error) {\n",
              "        console.error('Error during call to suggestCharts:', error);\n",
              "      }\n",
              "      quickchartButtonEl.classList.remove('colab-df-spinner');\n",
              "      quickchartButtonEl.classList.add('colab-df-quickchart-complete');\n",
              "    }\n",
              "    (() => {\n",
              "      let quickchartButtonEl =\n",
              "        document.querySelector('#df-55130873-6884-42cb-8de9-bc394185ae71 button');\n",
              "      quickchartButtonEl.style.display =\n",
              "        google.colab.kernel.accessAllowed ? 'block' : 'none';\n",
              "    })();\n",
              "  </script>\n",
              "</div>\n",
              "\n",
              "  <div id=\"id_be4dbee9-d67c-4b93-afbf-13d64210089a\">\n",
              "    <style>\n",
              "      .colab-df-generate {\n",
              "        background-color: #E8F0FE;\n",
              "        border: none;\n",
              "        border-radius: 50%;\n",
              "        cursor: pointer;\n",
              "        display: none;\n",
              "        fill: #1967D2;\n",
              "        height: 32px;\n",
              "        padding: 0 0 0 0;\n",
              "        width: 32px;\n",
              "      }\n",
              "\n",
              "      .colab-df-generate:hover {\n",
              "        background-color: #E2EBFA;\n",
              "        box-shadow: 0px 1px 2px rgba(60, 64, 67, 0.3), 0px 1px 3px 1px rgba(60, 64, 67, 0.15);\n",
              "        fill: #174EA6;\n",
              "      }\n",
              "\n",
              "      [theme=dark] .colab-df-generate {\n",
              "        background-color: #3B4455;\n",
              "        fill: #D2E3FC;\n",
              "      }\n",
              "\n",
              "      [theme=dark] .colab-df-generate:hover {\n",
              "        background-color: #434B5C;\n",
              "        box-shadow: 0px 1px 3px 1px rgba(0, 0, 0, 0.15);\n",
              "        filter: drop-shadow(0px 1px 2px rgba(0, 0, 0, 0.3));\n",
              "        fill: #FFFFFF;\n",
              "      }\n",
              "    </style>\n",
              "    <button class=\"colab-df-generate\" onclick=\"generateWithVariable('df_test')\"\n",
              "            title=\"Generate code using this dataframe.\"\n",
              "            style=\"display:none;\">\n",
              "\n",
              "  <svg xmlns=\"http://www.w3.org/2000/svg\" height=\"24px\"viewBox=\"0 0 24 24\"\n",
              "       width=\"24px\">\n",
              "    <path d=\"M7,19H8.4L18.45,9,17,7.55,7,17.6ZM5,21V16.75L18.45,3.32a2,2,0,0,1,2.83,0l1.4,1.43a1.91,1.91,0,0,1,.58,1.4,1.91,1.91,0,0,1-.58,1.4L9.25,21ZM18.45,9,17,7.55Zm-12,3A5.31,5.31,0,0,0,4.9,8.1,5.31,5.31,0,0,0,1,6.5,5.31,5.31,0,0,0,4.9,4.9,5.31,5.31,0,0,0,6.5,1,5.31,5.31,0,0,0,8.1,4.9,5.31,5.31,0,0,0,12,6.5,5.46,5.46,0,0,0,6.5,12Z\"/>\n",
              "  </svg>\n",
              "    </button>\n",
              "    <script>\n",
              "      (() => {\n",
              "      const buttonEl =\n",
              "        document.querySelector('#id_be4dbee9-d67c-4b93-afbf-13d64210089a button.colab-df-generate');\n",
              "      buttonEl.style.display =\n",
              "        google.colab.kernel.accessAllowed ? 'block' : 'none';\n",
              "\n",
              "      buttonEl.onclick = () => {\n",
              "        google.colab.notebook.generateWithVariable('df_test');\n",
              "      }\n",
              "      })();\n",
              "    </script>\n",
              "  </div>\n",
              "\n",
              "    </div>\n",
              "  </div>\n"
            ],
            "application/vnd.google.colaboratory.intrinsic+json": {
              "type": "dataframe",
              "variable_name": "df_test",
              "summary": "{\n  \"name\": \"df_test\",\n  \"rows\": 1601,\n  \"fields\": [\n    {\n      \"column\": \"id\",\n      \"properties\": {\n        \"dtype\": \"number\",\n        \"std\": 462,\n        \"min\": 6400,\n        \"max\": 8000,\n        \"num_unique_values\": 1601,\n        \"samples\": [\n          6926,\n          6754,\n          6568\n        ],\n        \"semantic_type\": \"\",\n        \"description\": \"\"\n      }\n    },\n    {\n      \"column\": \"Alkalinity, total\",\n      \"properties\": {\n        \"dtype\": \"number\",\n        \"std\": 82.95361308414061,\n        \"min\": 9.4,\n        \"max\": 700.0,\n        \"num_unique_values\": 267,\n        \"samples\": [\n          99.0,\n          360.0,\n          253.0\n        ],\n        \"semantic_type\": \"\",\n        \"description\": \"\"\n      }\n    },\n    {\n      \"column\": \"Calcium\",\n      \"properties\": {\n        \"dtype\": \"number\",\n        \"std\": 41.71734189657455,\n        \"min\": 0.26,\n        \"max\": 460.0,\n        \"num_unique_values\": 318,\n        \"samples\": [\n          45.0,\n          68.6,\n          41.0\n        ],\n        \"semantic_type\": \"\",\n        \"description\": \"\"\n      }\n    },\n    {\n      \"column\": \"Chloride\",\n      \"properties\": {\n        \"dtype\": \"number\",\n        \"std\": 77.52090216507693,\n        \"min\": 0.46,\n        \"max\": 1300.0,\n        \"num_unique_values\": 373,\n        \"samples\": [\n          15.4,\n          71.0,\n          120.0\n        ],\n        \"semantic_type\": \"\",\n        \"description\": \"\"\n      }\n    },\n    {\n      \"column\": \"Fluoride\",\n      \"properties\": {\n        \"dtype\": \"number\",\n        \"std\": 0.5516322208613654,\n        \"min\": 0.0,\n        \"max\": 9.9,\n        \"num_unique_values\": 178,\n        \"samples\": [\n          0.41,\n          0.13,\n          0.08\n        ],\n        \"semantic_type\": \"\",\n        \"description\": \"\"\n      }\n    },\n    {\n      \"column\": \"Magnesium\",\n      \"properties\": {\n        \"dtype\": \"number\",\n        \"std\": 1724.0808762516122,\n        \"min\": 0.064,\n        \"max\": 69000.0,\n        \"num_unique_values\": 341,\n        \"samples\": [\n          55.5,\n          9.9,\n          7.3\n        ],\n        \"semantic_type\": \"\",\n        \"description\": \"\"\n      }\n    },\n    {\n      \"column\": \"Nitrate as N\",\n      \"properties\": {\n        \"dtype\": \"number\",\n        \"std\": 4.968632713968329,\n        \"min\": 0.00474,\n        \"max\": 58.2,\n        \"num_unique_values\": 401,\n        \"samples\": [\n          7.32,\n          0.12,\n          2.1\n        ],\n        \"semantic_type\": \"\",\n        \"description\": \"\"\n      }\n    },\n    {\n      \"column\": \"Sodium\",\n      \"properties\": {\n        \"dtype\": \"number\",\n        \"std\": 780.983716844453,\n        \"min\": 2.2,\n        \"max\": 27400.0,\n        \"num_unique_values\": 329,\n        \"samples\": [\n          87.0,\n          13.3,\n          103.0\n        ],\n        \"semantic_type\": \"\",\n        \"description\": \"\"\n      }\n    },\n    {\n      \"column\": \"Specific Conductivity\",\n      \"properties\": {\n        \"dtype\": \"number\",\n        \"std\": 620.2758723045068,\n        \"min\": 66.0,\n        \"max\": 17400.0,\n        \"num_unique_values\": 443,\n        \"samples\": [\n          252.0,\n          489.0,\n          870.0\n        ],\n        \"semantic_type\": \"\",\n        \"description\": \"\"\n      }\n    },\n    {\n      \"column\": \"Sulfate\",\n      \"properties\": {\n        \"dtype\": \"number\",\n        \"std\": 121.64914742785326,\n        \"min\": 0.39,\n        \"max\": 2100.0,\n        \"num_unique_values\": 443,\n        \"samples\": [\n          23.6,\n          68.0,\n          38.6\n        ],\n        \"semantic_type\": \"\",\n        \"description\": \"\"\n      }\n    },\n    {\n      \"column\": \"Total Dissolved Solids\",\n      \"properties\": {\n        \"dtype\": \"number\",\n        \"std\": 271.13428640445625,\n        \"min\": 29.0,\n        \"max\": 2300.0,\n        \"num_unique_values\": 318,\n        \"samples\": [\n          390.0,\n          632.0,\n          540.0\n        ],\n        \"semantic_type\": \"\",\n        \"description\": \"\"\n      }\n    }\n  ]\n}"
            }
          },
          "metadata": {},
          "execution_count": 10
        }
      ]
    },
    {
      "cell_type": "code",
      "execution_count": null,
      "metadata": {
        "colab": {
          "base_uri": "https://localhost:8080/"
        },
        "id": "v2DxcIi88_z2",
        "outputId": "ad0e9539-5006-4741-a167-0faefc16aeb0"
      },
      "outputs": [
        {
          "output_type": "stream",
          "name": "stdout",
          "text": [
            "<class 'pandas.core.frame.DataFrame'>\n",
            "RangeIndex: 1601 entries, 0 to 1600\n",
            "Data columns (total 11 columns):\n",
            " #   Column                  Non-Null Count  Dtype  \n",
            "---  ------                  --------------  -----  \n",
            " 0   id                      1601 non-null   int64  \n",
            " 1   Alkalinity, total       1601 non-null   float64\n",
            " 2   Calcium                 1601 non-null   float64\n",
            " 3   Chloride                1601 non-null   float64\n",
            " 4   Fluoride                1601 non-null   float64\n",
            " 5   Magnesium               1601 non-null   float64\n",
            " 6   Nitrate as N            1601 non-null   float64\n",
            " 7   Sodium                  1601 non-null   float64\n",
            " 8   Specific Conductivity   1601 non-null   float64\n",
            " 9   Sulfate                 1601 non-null   float64\n",
            " 10  Total Dissolved Solids  1601 non-null   float64\n",
            "dtypes: float64(10), int64(1)\n",
            "memory usage: 137.7 KB\n"
          ]
        }
      ],
      "source": [
        "test.info()"
      ]
    },
    {
      "cell_type": "code",
      "execution_count": null,
      "metadata": {
        "colab": {
          "base_uri": "https://localhost:8080/",
          "height": 441
        },
        "id": "lfeQj1HAfxvO",
        "outputId": "01c39b1e-7d74-44e5-b124-560308be90d3"
      },
      "outputs": [
        {
          "output_type": "execute_result",
          "data": {
            "text/plain": [
              "        id  Alkalinity, total  Calcium  Chloride  Fluoride  Magnesium  \\\n",
              "0        0              120.0     24.0       6.9     0.314        7.1   \n",
              "1        1              140.0     41.0      11.0     0.150        6.5   \n",
              "2        2              160.0     51.0       9.0     0.450        9.1   \n",
              "3        3               46.0     13.0       2.9     0.120        2.7   \n",
              "4        4              240.0    147.0      70.0     0.600       48.0   \n",
              "...    ...                ...      ...       ...       ...        ...   \n",
              "6395  6395              180.0     58.0      40.0     0.180       25.0   \n",
              "6396  6396               44.0      5.7       3.0     0.120        3.7   \n",
              "6397  6397              138.0     40.3      28.4     0.100       14.2   \n",
              "6398  6398              210.0    110.0     190.0     0.230       47.0   \n",
              "6399  6399              175.0     63.1      26.8     0.470       11.2   \n",
              "\n",
              "      Nitrate as N  Sodium  Specific Conductivity  Sulfate  \\\n",
              "0            0.498    48.0                  510.0    23.20   \n",
              "1            0.950    19.0                  300.0     8.50   \n",
              "2            2.500    12.0                  370.0    25.00   \n",
              "3            0.430     6.4                  110.0     5.00   \n",
              "4            6.800    93.0                 1410.0   418.00   \n",
              "...            ...     ...                    ...      ...   \n",
              "6395         3.600    22.0                  540.0    48.00   \n",
              "6396         0.470     5.9                  100.0     0.85   \n",
              "6397         8.600    31.0                  438.0    17.70   \n",
              "6398         7.900   120.0                 1400.0   140.00   \n",
              "6399         0.700    37.6                  518.0    57.60   \n",
              "\n",
              "      Total Dissolved Solids  Hardness  \n",
              "0                      240.0      90.4  \n",
              "1                      190.0     130.0  \n",
              "2                      230.0     160.0  \n",
              "3                       97.0      41.0  \n",
              "4                      950.0     586.0  \n",
              "...                      ...       ...  \n",
              "6395                   400.0     219.0  \n",
              "6396                    56.0      30.0  \n",
              "6397                   300.0     159.0  \n",
              "6398                   800.0     470.0  \n",
              "6399                   306.0     203.0  \n",
              "\n",
              "[6400 rows x 12 columns]"
            ],
            "text/html": [
              "\n",
              "  <div id=\"df-19b37a72-bb4d-4756-8b19-b8e6d85baa90\" class=\"colab-df-container\">\n",
              "    <div>\n",
              "<style scoped>\n",
              "    .dataframe tbody tr th:only-of-type {\n",
              "        vertical-align: middle;\n",
              "    }\n",
              "\n",
              "    .dataframe tbody tr th {\n",
              "        vertical-align: top;\n",
              "    }\n",
              "\n",
              "    .dataframe thead th {\n",
              "        text-align: right;\n",
              "    }\n",
              "</style>\n",
              "<table border=\"1\" class=\"dataframe\">\n",
              "  <thead>\n",
              "    <tr style=\"text-align: right;\">\n",
              "      <th></th>\n",
              "      <th>id</th>\n",
              "      <th>Alkalinity, total</th>\n",
              "      <th>Calcium</th>\n",
              "      <th>Chloride</th>\n",
              "      <th>Fluoride</th>\n",
              "      <th>Magnesium</th>\n",
              "      <th>Nitrate as N</th>\n",
              "      <th>Sodium</th>\n",
              "      <th>Specific Conductivity</th>\n",
              "      <th>Sulfate</th>\n",
              "      <th>Total Dissolved Solids</th>\n",
              "      <th>Hardness</th>\n",
              "    </tr>\n",
              "  </thead>\n",
              "  <tbody>\n",
              "    <tr>\n",
              "      <th>0</th>\n",
              "      <td>0</td>\n",
              "      <td>120.0</td>\n",
              "      <td>24.0</td>\n",
              "      <td>6.9</td>\n",
              "      <td>0.314</td>\n",
              "      <td>7.1</td>\n",
              "      <td>0.498</td>\n",
              "      <td>48.0</td>\n",
              "      <td>510.0</td>\n",
              "      <td>23.20</td>\n",
              "      <td>240.0</td>\n",
              "      <td>90.4</td>\n",
              "    </tr>\n",
              "    <tr>\n",
              "      <th>1</th>\n",
              "      <td>1</td>\n",
              "      <td>140.0</td>\n",
              "      <td>41.0</td>\n",
              "      <td>11.0</td>\n",
              "      <td>0.150</td>\n",
              "      <td>6.5</td>\n",
              "      <td>0.950</td>\n",
              "      <td>19.0</td>\n",
              "      <td>300.0</td>\n",
              "      <td>8.50</td>\n",
              "      <td>190.0</td>\n",
              "      <td>130.0</td>\n",
              "    </tr>\n",
              "    <tr>\n",
              "      <th>2</th>\n",
              "      <td>2</td>\n",
              "      <td>160.0</td>\n",
              "      <td>51.0</td>\n",
              "      <td>9.0</td>\n",
              "      <td>0.450</td>\n",
              "      <td>9.1</td>\n",
              "      <td>2.500</td>\n",
              "      <td>12.0</td>\n",
              "      <td>370.0</td>\n",
              "      <td>25.00</td>\n",
              "      <td>230.0</td>\n",
              "      <td>160.0</td>\n",
              "    </tr>\n",
              "    <tr>\n",
              "      <th>3</th>\n",
              "      <td>3</td>\n",
              "      <td>46.0</td>\n",
              "      <td>13.0</td>\n",
              "      <td>2.9</td>\n",
              "      <td>0.120</td>\n",
              "      <td>2.7</td>\n",
              "      <td>0.430</td>\n",
              "      <td>6.4</td>\n",
              "      <td>110.0</td>\n",
              "      <td>5.00</td>\n",
              "      <td>97.0</td>\n",
              "      <td>41.0</td>\n",
              "    </tr>\n",
              "    <tr>\n",
              "      <th>4</th>\n",
              "      <td>4</td>\n",
              "      <td>240.0</td>\n",
              "      <td>147.0</td>\n",
              "      <td>70.0</td>\n",
              "      <td>0.600</td>\n",
              "      <td>48.0</td>\n",
              "      <td>6.800</td>\n",
              "      <td>93.0</td>\n",
              "      <td>1410.0</td>\n",
              "      <td>418.00</td>\n",
              "      <td>950.0</td>\n",
              "      <td>586.0</td>\n",
              "    </tr>\n",
              "    <tr>\n",
              "      <th>...</th>\n",
              "      <td>...</td>\n",
              "      <td>...</td>\n",
              "      <td>...</td>\n",
              "      <td>...</td>\n",
              "      <td>...</td>\n",
              "      <td>...</td>\n",
              "      <td>...</td>\n",
              "      <td>...</td>\n",
              "      <td>...</td>\n",
              "      <td>...</td>\n",
              "      <td>...</td>\n",
              "      <td>...</td>\n",
              "    </tr>\n",
              "    <tr>\n",
              "      <th>6395</th>\n",
              "      <td>6395</td>\n",
              "      <td>180.0</td>\n",
              "      <td>58.0</td>\n",
              "      <td>40.0</td>\n",
              "      <td>0.180</td>\n",
              "      <td>25.0</td>\n",
              "      <td>3.600</td>\n",
              "      <td>22.0</td>\n",
              "      <td>540.0</td>\n",
              "      <td>48.00</td>\n",
              "      <td>400.0</td>\n",
              "      <td>219.0</td>\n",
              "    </tr>\n",
              "    <tr>\n",
              "      <th>6396</th>\n",
              "      <td>6396</td>\n",
              "      <td>44.0</td>\n",
              "      <td>5.7</td>\n",
              "      <td>3.0</td>\n",
              "      <td>0.120</td>\n",
              "      <td>3.7</td>\n",
              "      <td>0.470</td>\n",
              "      <td>5.9</td>\n",
              "      <td>100.0</td>\n",
              "      <td>0.85</td>\n",
              "      <td>56.0</td>\n",
              "      <td>30.0</td>\n",
              "    </tr>\n",
              "    <tr>\n",
              "      <th>6397</th>\n",
              "      <td>6397</td>\n",
              "      <td>138.0</td>\n",
              "      <td>40.3</td>\n",
              "      <td>28.4</td>\n",
              "      <td>0.100</td>\n",
              "      <td>14.2</td>\n",
              "      <td>8.600</td>\n",
              "      <td>31.0</td>\n",
              "      <td>438.0</td>\n",
              "      <td>17.70</td>\n",
              "      <td>300.0</td>\n",
              "      <td>159.0</td>\n",
              "    </tr>\n",
              "    <tr>\n",
              "      <th>6398</th>\n",
              "      <td>6398</td>\n",
              "      <td>210.0</td>\n",
              "      <td>110.0</td>\n",
              "      <td>190.0</td>\n",
              "      <td>0.230</td>\n",
              "      <td>47.0</td>\n",
              "      <td>7.900</td>\n",
              "      <td>120.0</td>\n",
              "      <td>1400.0</td>\n",
              "      <td>140.00</td>\n",
              "      <td>800.0</td>\n",
              "      <td>470.0</td>\n",
              "    </tr>\n",
              "    <tr>\n",
              "      <th>6399</th>\n",
              "      <td>6399</td>\n",
              "      <td>175.0</td>\n",
              "      <td>63.1</td>\n",
              "      <td>26.8</td>\n",
              "      <td>0.470</td>\n",
              "      <td>11.2</td>\n",
              "      <td>0.700</td>\n",
              "      <td>37.6</td>\n",
              "      <td>518.0</td>\n",
              "      <td>57.60</td>\n",
              "      <td>306.0</td>\n",
              "      <td>203.0</td>\n",
              "    </tr>\n",
              "  </tbody>\n",
              "</table>\n",
              "<p>6400 rows × 12 columns</p>\n",
              "</div>\n",
              "    <div class=\"colab-df-buttons\">\n",
              "\n",
              "  <div class=\"colab-df-container\">\n",
              "    <button class=\"colab-df-convert\" onclick=\"convertToInteractive('df-19b37a72-bb4d-4756-8b19-b8e6d85baa90')\"\n",
              "            title=\"Convert this dataframe to an interactive table.\"\n",
              "            style=\"display:none;\">\n",
              "\n",
              "  <svg xmlns=\"http://www.w3.org/2000/svg\" height=\"24px\" viewBox=\"0 -960 960 960\">\n",
              "    <path d=\"M120-120v-720h720v720H120Zm60-500h600v-160H180v160Zm220 220h160v-160H400v160Zm0 220h160v-160H400v160ZM180-400h160v-160H180v160Zm440 0h160v-160H620v160ZM180-180h160v-160H180v160Zm440 0h160v-160H620v160Z\"/>\n",
              "  </svg>\n",
              "    </button>\n",
              "\n",
              "  <style>\n",
              "    .colab-df-container {\n",
              "      display:flex;\n",
              "      gap: 12px;\n",
              "    }\n",
              "\n",
              "    .colab-df-convert {\n",
              "      background-color: #E8F0FE;\n",
              "      border: none;\n",
              "      border-radius: 50%;\n",
              "      cursor: pointer;\n",
              "      display: none;\n",
              "      fill: #1967D2;\n",
              "      height: 32px;\n",
              "      padding: 0 0 0 0;\n",
              "      width: 32px;\n",
              "    }\n",
              "\n",
              "    .colab-df-convert:hover {\n",
              "      background-color: #E2EBFA;\n",
              "      box-shadow: 0px 1px 2px rgba(60, 64, 67, 0.3), 0px 1px 3px 1px rgba(60, 64, 67, 0.15);\n",
              "      fill: #174EA6;\n",
              "    }\n",
              "\n",
              "    .colab-df-buttons div {\n",
              "      margin-bottom: 4px;\n",
              "    }\n",
              "\n",
              "    [theme=dark] .colab-df-convert {\n",
              "      background-color: #3B4455;\n",
              "      fill: #D2E3FC;\n",
              "    }\n",
              "\n",
              "    [theme=dark] .colab-df-convert:hover {\n",
              "      background-color: #434B5C;\n",
              "      box-shadow: 0px 1px 3px 1px rgba(0, 0, 0, 0.15);\n",
              "      filter: drop-shadow(0px 1px 2px rgba(0, 0, 0, 0.3));\n",
              "      fill: #FFFFFF;\n",
              "    }\n",
              "  </style>\n",
              "\n",
              "    <script>\n",
              "      const buttonEl =\n",
              "        document.querySelector('#df-19b37a72-bb4d-4756-8b19-b8e6d85baa90 button.colab-df-convert');\n",
              "      buttonEl.style.display =\n",
              "        google.colab.kernel.accessAllowed ? 'block' : 'none';\n",
              "\n",
              "      async function convertToInteractive(key) {\n",
              "        const element = document.querySelector('#df-19b37a72-bb4d-4756-8b19-b8e6d85baa90');\n",
              "        const dataTable =\n",
              "          await google.colab.kernel.invokeFunction('convertToInteractive',\n",
              "                                                    [key], {});\n",
              "        if (!dataTable) return;\n",
              "\n",
              "        const docLinkHtml = 'Like what you see? Visit the ' +\n",
              "          '<a target=\"_blank\" href=https://colab.research.google.com/notebooks/data_table.ipynb>data table notebook</a>'\n",
              "          + ' to learn more about interactive tables.';\n",
              "        element.innerHTML = '';\n",
              "        dataTable['output_type'] = 'display_data';\n",
              "        await google.colab.output.renderOutput(dataTable, element);\n",
              "        const docLink = document.createElement('div');\n",
              "        docLink.innerHTML = docLinkHtml;\n",
              "        element.appendChild(docLink);\n",
              "      }\n",
              "    </script>\n",
              "  </div>\n",
              "\n",
              "\n",
              "<div id=\"df-edfa1b9e-bdaa-4a6e-8170-554cf9821867\">\n",
              "  <button class=\"colab-df-quickchart\" onclick=\"quickchart('df-edfa1b9e-bdaa-4a6e-8170-554cf9821867')\"\n",
              "            title=\"Suggest charts\"\n",
              "            style=\"display:none;\">\n",
              "\n",
              "<svg xmlns=\"http://www.w3.org/2000/svg\" height=\"24px\"viewBox=\"0 0 24 24\"\n",
              "     width=\"24px\">\n",
              "    <g>\n",
              "        <path d=\"M19 3H5c-1.1 0-2 .9-2 2v14c0 1.1.9 2 2 2h14c1.1 0 2-.9 2-2V5c0-1.1-.9-2-2-2zM9 17H7v-7h2v7zm4 0h-2V7h2v10zm4 0h-2v-4h2v4z\"/>\n",
              "    </g>\n",
              "</svg>\n",
              "  </button>\n",
              "\n",
              "<style>\n",
              "  .colab-df-quickchart {\n",
              "      --bg-color: #E8F0FE;\n",
              "      --fill-color: #1967D2;\n",
              "      --hover-bg-color: #E2EBFA;\n",
              "      --hover-fill-color: #174EA6;\n",
              "      --disabled-fill-color: #AAA;\n",
              "      --disabled-bg-color: #DDD;\n",
              "  }\n",
              "\n",
              "  [theme=dark] .colab-df-quickchart {\n",
              "      --bg-color: #3B4455;\n",
              "      --fill-color: #D2E3FC;\n",
              "      --hover-bg-color: #434B5C;\n",
              "      --hover-fill-color: #FFFFFF;\n",
              "      --disabled-bg-color: #3B4455;\n",
              "      --disabled-fill-color: #666;\n",
              "  }\n",
              "\n",
              "  .colab-df-quickchart {\n",
              "    background-color: var(--bg-color);\n",
              "    border: none;\n",
              "    border-radius: 50%;\n",
              "    cursor: pointer;\n",
              "    display: none;\n",
              "    fill: var(--fill-color);\n",
              "    height: 32px;\n",
              "    padding: 0;\n",
              "    width: 32px;\n",
              "  }\n",
              "\n",
              "  .colab-df-quickchart:hover {\n",
              "    background-color: var(--hover-bg-color);\n",
              "    box-shadow: 0 1px 2px rgba(60, 64, 67, 0.3), 0 1px 3px 1px rgba(60, 64, 67, 0.15);\n",
              "    fill: var(--button-hover-fill-color);\n",
              "  }\n",
              "\n",
              "  .colab-df-quickchart-complete:disabled,\n",
              "  .colab-df-quickchart-complete:disabled:hover {\n",
              "    background-color: var(--disabled-bg-color);\n",
              "    fill: var(--disabled-fill-color);\n",
              "    box-shadow: none;\n",
              "  }\n",
              "\n",
              "  .colab-df-spinner {\n",
              "    border: 2px solid var(--fill-color);\n",
              "    border-color: transparent;\n",
              "    border-bottom-color: var(--fill-color);\n",
              "    animation:\n",
              "      spin 1s steps(1) infinite;\n",
              "  }\n",
              "\n",
              "  @keyframes spin {\n",
              "    0% {\n",
              "      border-color: transparent;\n",
              "      border-bottom-color: var(--fill-color);\n",
              "      border-left-color: var(--fill-color);\n",
              "    }\n",
              "    20% {\n",
              "      border-color: transparent;\n",
              "      border-left-color: var(--fill-color);\n",
              "      border-top-color: var(--fill-color);\n",
              "    }\n",
              "    30% {\n",
              "      border-color: transparent;\n",
              "      border-left-color: var(--fill-color);\n",
              "      border-top-color: var(--fill-color);\n",
              "      border-right-color: var(--fill-color);\n",
              "    }\n",
              "    40% {\n",
              "      border-color: transparent;\n",
              "      border-right-color: var(--fill-color);\n",
              "      border-top-color: var(--fill-color);\n",
              "    }\n",
              "    60% {\n",
              "      border-color: transparent;\n",
              "      border-right-color: var(--fill-color);\n",
              "    }\n",
              "    80% {\n",
              "      border-color: transparent;\n",
              "      border-right-color: var(--fill-color);\n",
              "      border-bottom-color: var(--fill-color);\n",
              "    }\n",
              "    90% {\n",
              "      border-color: transparent;\n",
              "      border-bottom-color: var(--fill-color);\n",
              "    }\n",
              "  }\n",
              "</style>\n",
              "\n",
              "  <script>\n",
              "    async function quickchart(key) {\n",
              "      const quickchartButtonEl =\n",
              "        document.querySelector('#' + key + ' button');\n",
              "      quickchartButtonEl.disabled = true;  // To prevent multiple clicks.\n",
              "      quickchartButtonEl.classList.add('colab-df-spinner');\n",
              "      try {\n",
              "        const charts = await google.colab.kernel.invokeFunction(\n",
              "            'suggestCharts', [key], {});\n",
              "      } catch (error) {\n",
              "        console.error('Error during call to suggestCharts:', error);\n",
              "      }\n",
              "      quickchartButtonEl.classList.remove('colab-df-spinner');\n",
              "      quickchartButtonEl.classList.add('colab-df-quickchart-complete');\n",
              "    }\n",
              "    (() => {\n",
              "      let quickchartButtonEl =\n",
              "        document.querySelector('#df-edfa1b9e-bdaa-4a6e-8170-554cf9821867 button');\n",
              "      quickchartButtonEl.style.display =\n",
              "        google.colab.kernel.accessAllowed ? 'block' : 'none';\n",
              "    })();\n",
              "  </script>\n",
              "</div>\n",
              "\n",
              "  <div id=\"id_5f00a168-03de-4fe5-ae3c-5edd1ba50a78\">\n",
              "    <style>\n",
              "      .colab-df-generate {\n",
              "        background-color: #E8F0FE;\n",
              "        border: none;\n",
              "        border-radius: 50%;\n",
              "        cursor: pointer;\n",
              "        display: none;\n",
              "        fill: #1967D2;\n",
              "        height: 32px;\n",
              "        padding: 0 0 0 0;\n",
              "        width: 32px;\n",
              "      }\n",
              "\n",
              "      .colab-df-generate:hover {\n",
              "        background-color: #E2EBFA;\n",
              "        box-shadow: 0px 1px 2px rgba(60, 64, 67, 0.3), 0px 1px 3px 1px rgba(60, 64, 67, 0.15);\n",
              "        fill: #174EA6;\n",
              "      }\n",
              "\n",
              "      [theme=dark] .colab-df-generate {\n",
              "        background-color: #3B4455;\n",
              "        fill: #D2E3FC;\n",
              "      }\n",
              "\n",
              "      [theme=dark] .colab-df-generate:hover {\n",
              "        background-color: #434B5C;\n",
              "        box-shadow: 0px 1px 3px 1px rgba(0, 0, 0, 0.15);\n",
              "        filter: drop-shadow(0px 1px 2px rgba(0, 0, 0, 0.3));\n",
              "        fill: #FFFFFF;\n",
              "      }\n",
              "    </style>\n",
              "    <button class=\"colab-df-generate\" onclick=\"generateWithVariable('df_train')\"\n",
              "            title=\"Generate code using this dataframe.\"\n",
              "            style=\"display:none;\">\n",
              "\n",
              "  <svg xmlns=\"http://www.w3.org/2000/svg\" height=\"24px\"viewBox=\"0 0 24 24\"\n",
              "       width=\"24px\">\n",
              "    <path d=\"M7,19H8.4L18.45,9,17,7.55,7,17.6ZM5,21V16.75L18.45,3.32a2,2,0,0,1,2.83,0l1.4,1.43a1.91,1.91,0,0,1,.58,1.4,1.91,1.91,0,0,1-.58,1.4L9.25,21ZM18.45,9,17,7.55Zm-12,3A5.31,5.31,0,0,0,4.9,8.1,5.31,5.31,0,0,0,1,6.5,5.31,5.31,0,0,0,4.9,4.9,5.31,5.31,0,0,0,6.5,1,5.31,5.31,0,0,0,8.1,4.9,5.31,5.31,0,0,0,12,6.5,5.46,5.46,0,0,0,6.5,12Z\"/>\n",
              "  </svg>\n",
              "    </button>\n",
              "    <script>\n",
              "      (() => {\n",
              "      const buttonEl =\n",
              "        document.querySelector('#id_5f00a168-03de-4fe5-ae3c-5edd1ba50a78 button.colab-df-generate');\n",
              "      buttonEl.style.display =\n",
              "        google.colab.kernel.accessAllowed ? 'block' : 'none';\n",
              "\n",
              "      buttonEl.onclick = () => {\n",
              "        google.colab.notebook.generateWithVariable('df_train');\n",
              "      }\n",
              "      })();\n",
              "    </script>\n",
              "  </div>\n",
              "\n",
              "    </div>\n",
              "  </div>\n"
            ],
            "application/vnd.google.colaboratory.intrinsic+json": {
              "type": "dataframe",
              "variable_name": "df_train",
              "summary": "{\n  \"name\": \"df_train\",\n  \"rows\": 6400,\n  \"fields\": [\n    {\n      \"column\": \"id\",\n      \"properties\": {\n        \"dtype\": \"number\",\n        \"std\": 1847,\n        \"min\": 0,\n        \"max\": 6399,\n        \"num_unique_values\": 6400,\n        \"samples\": [\n          1992,\n          2775,\n          4162\n        ],\n        \"semantic_type\": \"\",\n        \"description\": \"\"\n      }\n    },\n    {\n      \"column\": \"Alkalinity, total\",\n      \"properties\": {\n        \"dtype\": \"number\",\n        \"std\": 83.15780330063338,\n        \"min\": 12.0,\n        \"max\": 1000.0,\n        \"num_unique_values\": 466,\n        \"samples\": [\n          97.0,\n          157.0,\n          198.0\n        ],\n        \"semantic_type\": \"\",\n        \"description\": \"\"\n      }\n    },\n    {\n      \"column\": \"Calcium\",\n      \"properties\": {\n        \"dtype\": \"number\",\n        \"std\": 1052.1364516850285,\n        \"min\": 0.61,\n        \"max\": 83000.0,\n        \"num_unique_values\": 734,\n        \"samples\": [\n          42.3,\n          25.0,\n          61.6\n        ],\n        \"semantic_type\": \"\",\n        \"description\": \"\"\n      }\n    },\n    {\n      \"column\": \"Chloride\",\n      \"properties\": {\n        \"dtype\": \"number\",\n        \"std\": 92.93450531942872,\n        \"min\": 0.58,\n        \"max\": 2100.0,\n        \"num_unique_values\": 753,\n        \"samples\": [\n          58.9,\n          46.3,\n          34.5\n        ],\n        \"semantic_type\": \"\",\n        \"description\": \"\"\n      }\n    },\n    {\n      \"column\": \"Fluoride\",\n      \"properties\": {\n        \"dtype\": \"number\",\n        \"std\": 0.45247268594727286,\n        \"min\": 0.049,\n        \"max\": 9.0,\n        \"num_unique_values\": 315,\n        \"samples\": [\n          5.1,\n          0.49,\n          0.85\n        ],\n        \"semantic_type\": \"\",\n        \"description\": \"\"\n      }\n    },\n    {\n      \"column\": \"Magnesium\",\n      \"properties\": {\n        \"dtype\": \"number\",\n        \"std\": 325.3895032002857,\n        \"min\": 0.051,\n        \"max\": 26000.0,\n        \"num_unique_values\": 665,\n        \"samples\": [\n          42.1,\n          6.53,\n          4.59\n        ],\n        \"semantic_type\": \"\",\n        \"description\": \"\"\n      }\n    },\n    {\n      \"column\": \"Nitrate as N\",\n      \"properties\": {\n        \"dtype\": \"number\",\n        \"std\": 4.878279385823561,\n        \"min\": 0.0023,\n        \"max\": 106.0,\n        \"num_unique_values\": 899,\n        \"samples\": [\n          1.73,\n          3.66,\n          0.897\n        ],\n        \"semantic_type\": \"\",\n        \"description\": \"\"\n      }\n    },\n    {\n      \"column\": \"Sodium\",\n      \"properties\": {\n        \"dtype\": \"number\",\n        \"std\": 556.891904058765,\n        \"min\": 1.3,\n        \"max\": 32000.0,\n        \"num_unique_values\": 691,\n        \"samples\": [\n          203.0,\n          98.8,\n          61.763\n        ],\n        \"semantic_type\": \"\",\n        \"description\": \"\"\n      }\n    },\n    {\n      \"column\": \"Specific Conductivity\",\n      \"properties\": {\n        \"dtype\": \"number\",\n        \"std\": 597.2972740145201,\n        \"min\": 40.0,\n        \"max\": 31400.0,\n        \"num_unique_values\": 937,\n        \"samples\": [\n          2640.0,\n          530.0,\n          150.0\n        ],\n        \"semantic_type\": \"\",\n        \"description\": \"\"\n      }\n    },\n    {\n      \"column\": \"Sulfate\",\n      \"properties\": {\n        \"dtype\": \"number\",\n        \"std\": 108.41404876940364,\n        \"min\": 0.14,\n        \"max\": 2000.0,\n        \"num_unique_values\": 851,\n        \"samples\": [\n          9.8,\n          8.3,\n          50.2\n        ],\n        \"semantic_type\": \"\",\n        \"description\": \"\"\n      }\n    },\n    {\n      \"column\": \"Total Dissolved Solids\",\n      \"properties\": {\n        \"dtype\": \"number\",\n        \"std\": 302.95844223106144,\n        \"min\": 19.58,\n        \"max\": 4100.0,\n        \"num_unique_values\": 657,\n        \"samples\": [\n          423.0,\n          441.0,\n          833.0\n        ],\n        \"semantic_type\": \"\",\n        \"description\": \"\"\n      }\n    },\n    {\n      \"column\": \"Hardness\",\n      \"properties\": {\n        \"dtype\": \"number\",\n        \"std\": 161.43152631877237,\n        \"min\": 2.5,\n        \"max\": 1901.0,\n        \"num_unique_values\": 873,\n        \"samples\": [\n          790.0,\n          101.0,\n          124.612\n        ],\n        \"semantic_type\": \"\",\n        \"description\": \"\"\n      }\n    }\n  ]\n}"
            }
          },
          "metadata": {},
          "execution_count": 12
        }
      ],
      "source": [
        "#membuat data frame\n",
        "#agar tidak memenuhi source\n",
        "df_train = pd.DataFrame(train)\n",
        "df_train"
      ]
    },
    {
      "cell_type": "code",
      "source": [
        "f, ax = plt.subplots(figsize=(10,10))\n",
        "plt.title('pearson corelation')\n",
        "sns.heatmap(df_train.astype(float).corr(),linewidth=0.25, vmax =1.0,square =True,cmap='YlGn', linecolor='black', annot=True)\n",
        "plt.show()"
      ],
      "metadata": {
        "colab": {
          "base_uri": "https://localhost:8080/",
          "height": 896
        },
        "id": "D_NJwWhUn8Ay",
        "outputId": "473bf35c-a603-43a9-9b3f-d020e5573198"
      },
      "execution_count": null,
      "outputs": [
        {
          "output_type": "display_data",
          "data": {
            "text/plain": [
              "<Figure size 1000x1000 with 2 Axes>"
            ],
            "image/png": "[encoded data removed]"
          },
          "metadata": {}
        }
      ]
    },
    {
      "cell_type": "markdown",
      "source": [
        "penjelasan:\n",
        "\n",
        "kesadahan air memiliki korelasi yang tinggi terhadap total disolved solid dan positif, sedangkan kesadahan air memiliki korelasi lemah pada flouride akibat perbedaan pembentuk senyawanya"
      ],
      "metadata": {
        "id": "aINTadk1Qs94"
      }
    },
    {
      "cell_type": "markdown",
      "metadata": {
        "id": "WLR6mOFSSE-f"
      },
      "source": [
        "# Data Preparation"
      ]
    },
    {
      "cell_type": "markdown",
      "metadata": {
        "id": "8FicC3WAB58i"
      },
      "source": [
        "## Data Cleaning Train"
      ]
    },
    {
      "cell_type": "code",
      "execution_count": null,
      "metadata": {
        "id": "FJ_trUqPFloY"
      },
      "outputs": [],
      "source": [
        "#membuat fungsi untuk menghitung tingkat missing pada data\n",
        "def get_numerical_summary(df):\n",
        "    total = df.shape[0]\n",
        "    missing_columns = [col for col in df.columns if df[col].isnull().sum() > 0]\n",
        "    missing_percent = {}\n",
        "    for col in missing_columns:\n",
        "        null_count = df[col].isnull().sum()\n",
        "        per = (null_count/total) * 100\n",
        "        missing_percent[col] = per\n",
        "        print(\"{} : {} ({}%)\".format(col, null_count, round(per, 3)))\n",
        "    return missing_percent"
      ]
    },
    {
      "cell_type": "code",
      "execution_count": null,
      "metadata": {
        "colab": {
          "base_uri": "https://localhost:8080/"
        },
        "id": "VT0L7bb13X_U",
        "outputId": "fd6c774c-81d3-40b8-b17c-199aed273296"
      },
      "outputs": [
        {
          "output_type": "execute_result",
          "data": {
            "text/plain": [
              "id                        0\n",
              "Alkalinity, total         0\n",
              "Calcium                   0\n",
              "Chloride                  0\n",
              "Fluoride                  0\n",
              "Magnesium                 0\n",
              "Nitrate as N              0\n",
              "Sodium                    0\n",
              "Specific Conductivity     0\n",
              "Sulfate                   0\n",
              "Total Dissolved Solids    0\n",
              "Hardness                  0\n",
              "dtype: int64"
            ]
          },
          "metadata": {},
          "execution_count": 16
        }
      ],
      "source": [
        "df_train.isnull().sum()"
      ]
    },
    {
      "cell_type": "markdown",
      "metadata": {
        "id": "IGtvDIV9l013"
      },
      "source": [
        "penjelasan:\n",
        "\n",
        "terdapat pada atribut visibility, sea_level, grnd_level, rain_3h, snow_1h, snow_3h tedapat missing value maka diperlu cek missing percent train"
      ]
    },
    {
      "cell_type": "code",
      "execution_count": null,
      "metadata": {
        "colab": {
          "base_uri": "https://localhost:8080/"
        },
        "id": "lx-MLplLFRDF",
        "outputId": "b71c4691-0ede-4d82-c187-b33cababe207"
      },
      "outputs": [
        {
          "output_type": "execute_result",
          "data": {
            "text/plain": [
              "{}"
            ]
          },
          "metadata": {},
          "execution_count": 17
        }
      ],
      "source": [
        "missing_percent_train = get_numerical_summary(df_train)\n",
        "missing_percent_train"
      ]
    },
    {
      "cell_type": "code",
      "execution_count": null,
      "metadata": {
        "id": "yHOBb-cRnGOU",
        "colab": {
          "base_uri": "https://localhost:8080/"
        },
        "outputId": "12e0d8d3-160a-41b9-a8eb-38ac492038c8"
      },
      "outputs": [
        {
          "output_type": "execute_result",
          "data": {
            "text/plain": [
              "Index(['id', 'Alkalinity, total', 'Calcium', 'Chloride', 'Fluoride',\n",
              "       'Magnesium', 'Nitrate as N', 'Sodium', 'Specific Conductivity',\n",
              "       'Sulfate', 'Total Dissolved Solids', 'Hardness'],\n",
              "      dtype='object')"
            ]
          },
          "metadata": {},
          "execution_count": 18
        }
      ],
      "source": [
        "df_train.columns"
      ]
    },
    {
      "cell_type": "code",
      "source": [
        "# export as download if in colab\n",
        "from google.colab import files\n",
        "df_train.to_csv('train_daladida.csv')\n",
        "files.download('train_daladida.csv')\n",
        "print(\"berhasil train dijadikan csv!\")"
      ],
      "metadata": {
        "colab": {
          "base_uri": "https://localhost:8080/",
          "height": 34
        },
        "id": "IuJaaDJhKB11",
        "outputId": "2787a4fc-8476-40b5-a7c3-9497bae85fbc"
      },
      "execution_count": null,
      "outputs": [
        {
          "output_type": "display_data",
          "data": {
            "text/plain": [
              "<IPython.core.display.Javascript object>"
            ],
            "application/javascript": [
              "\n",
              "    async function download(id, filename, size) {\n",
              "      if (!google.colab.kernel.accessAllowed) {\n",
              "        return;\n",
              "      }\n",
              "      const div = document.createElement('div');\n",
              "      const label = document.createElement('label');\n",
              "      label.textContent = `Downloading \"${filename}\": `;\n",
              "      div.appendChild(label);\n",
              "      const progress = document.createElement('progress');\n",
              "      progress.max = size;\n",
              "      div.appendChild(progress);\n",
              "      document.body.appendChild(div);\n",
              "\n",
              "      const buffers = [];\n",
              "      let downloaded = 0;\n",
              "\n",
              "      const channel = await google.colab.kernel.comms.open(id);\n",
              "      // Send a message to notify the kernel that we're ready.\n",
              "      channel.send({})\n",
              "\n",
              "      for await (const message of channel.messages) {\n",
              "        // Send a message to notify the kernel that we're ready.\n",
              "        channel.send({})\n",
              "        if (message.buffers) {\n",
              "          for (const buffer of message.buffers) {\n",
              "            buffers.push(buffer);\n",
              "            downloaded += buffer.byteLength;\n",
              "            progress.value = downloaded;\n",
              "          }\n",
              "        }\n",
              "      }\n",
              "      const blob = new Blob(buffers, {type: 'application/binary'});\n",
              "      const a = document.createElement('a');\n",
              "      a.href = window.URL.createObjectURL(blob);\n",
              "      a.download = filename;\n",
              "      div.appendChild(a);\n",
              "      a.click();\n",
              "      div.remove();\n",
              "    }\n",
              "  "
            ]
          },
          "metadata": {}
        },
        {
          "output_type": "display_data",
          "data": {
            "text/plain": [
              "<IPython.core.display.Javascript object>"
            ],
            "application/javascript": [
              "download(\"download_484b568c-74ab-4081-958a-facfeb02e3d3\", \"train_daladida.csv\", 431385)"
            ]
          },
          "metadata": {}
        },
        {
          "output_type": "stream",
          "name": "stdout",
          "text": [
            "berhasil train dijadikan csv!\n"
          ]
        }
      ]
    },
    {
      "cell_type": "markdown",
      "source": [
        "## Data Cleaning Test"
      ],
      "metadata": {
        "id": "Wp5sfH05EyPM"
      }
    },
    {
      "cell_type": "code",
      "source": [
        "df_test.isnull().sum()"
      ],
      "metadata": {
        "colab": {
          "base_uri": "https://localhost:8080/"
        },
        "id": "4AodDUUfFDoB",
        "outputId": "ca930b09-b34f-4bda-a689-5b6c789eab16"
      },
      "execution_count": null,
      "outputs": [
        {
          "output_type": "execute_result",
          "data": {
            "text/plain": [
              "id                        0\n",
              "Alkalinity, total         0\n",
              "Calcium                   0\n",
              "Chloride                  0\n",
              "Fluoride                  0\n",
              "Magnesium                 0\n",
              "Nitrate as N              0\n",
              "Sodium                    0\n",
              "Specific Conductivity     0\n",
              "Sulfate                   0\n",
              "Total Dissolved Solids    0\n",
              "dtype: int64"
            ]
          },
          "metadata": {},
          "execution_count": 20
        }
      ]
    },
    {
      "cell_type": "code",
      "source": [
        "missing_percent_test = get_numerical_summary(df_test)\n",
        "missing_percent_test"
      ],
      "metadata": {
        "colab": {
          "base_uri": "https://localhost:8080/"
        },
        "id": "MVP-Xk-oFNcu",
        "outputId": "17956ade-73bc-4a60-d137-cc1654d7eb25"
      },
      "execution_count": null,
      "outputs": [
        {
          "output_type": "execute_result",
          "data": {
            "text/plain": [
              "{}"
            ]
          },
          "metadata": {},
          "execution_count": 21
        }
      ]
    },
    {
      "cell_type": "code",
      "source": [
        "df_test.columns"
      ],
      "metadata": {
        "colab": {
          "base_uri": "https://localhost:8080/"
        },
        "id": "aS7XlTOMgr9u",
        "outputId": "bca8f33f-449a-479d-8461-16f1f98b6b8b"
      },
      "execution_count": null,
      "outputs": [
        {
          "output_type": "execute_result",
          "data": {
            "text/plain": [
              "Index(['id', 'Alkalinity, total', 'Calcium', 'Chloride', 'Fluoride',\n",
              "       'Magnesium', 'Nitrate as N', 'Sodium', 'Specific Conductivity',\n",
              "       'Sulfate', 'Total Dissolved Solids'],\n",
              "      dtype='object')"
            ]
          },
          "metadata": {},
          "execution_count": 22
        }
      ]
    },
    {
      "cell_type": "code",
      "source": [
        "# export as download if in colab\n",
        "from google.colab import files\n",
        "df_test.to_csv('test_ZigzagTeam.csv')\n",
        "files.download('test_ZigzagTeam.csv')\n",
        "print(\"berhasil test dijadikan csv!\")"
      ],
      "metadata": {
        "colab": {
          "base_uri": "https://localhost:8080/",
          "height": 34
        },
        "id": "3JGS1KGOUbdu",
        "outputId": "5adf5c2b-b789-4528-fbe3-958b9c6ae6e6"
      },
      "execution_count": null,
      "outputs": [
        {
          "output_type": "display_data",
          "data": {
            "text/plain": [
              "<IPython.core.display.Javascript object>"
            ],
            "application/javascript": [
              "\n",
              "    async function download(id, filename, size) {\n",
              "      if (!google.colab.kernel.accessAllowed) {\n",
              "        return;\n",
              "      }\n",
              "      const div = document.createElement('div');\n",
              "      const label = document.createElement('label');\n",
              "      label.textContent = `Downloading \"${filename}\": `;\n",
              "      div.appendChild(label);\n",
              "      const progress = document.createElement('progress');\n",
              "      progress.max = size;\n",
              "      div.appendChild(progress);\n",
              "      document.body.appendChild(div);\n",
              "\n",
              "      const buffers = [];\n",
              "      let downloaded = 0;\n",
              "\n",
              "      const channel = await google.colab.kernel.comms.open(id);\n",
              "      // Send a message to notify the kernel that we're ready.\n",
              "      channel.send({})\n",
              "\n",
              "      for await (const message of channel.messages) {\n",
              "        // Send a message to notify the kernel that we're ready.\n",
              "        channel.send({})\n",
              "        if (message.buffers) {\n",
              "          for (const buffer of message.buffers) {\n",
              "            buffers.push(buffer);\n",
              "            downloaded += buffer.byteLength;\n",
              "            progress.value = downloaded;\n",
              "          }\n",
              "        }\n",
              "      }\n",
              "      const blob = new Blob(buffers, {type: 'application/binary'});\n",
              "      const a = document.createElement('a');\n",
              "      a.href = window.URL.createObjectURL(blob);\n",
              "      a.download = filename;\n",
              "      div.appendChild(a);\n",
              "      a.click();\n",
              "      div.remove();\n",
              "    }\n",
              "  "
            ]
          },
          "metadata": {}
        },
        {
          "output_type": "display_data",
          "data": {
            "text/plain": [
              "<IPython.core.display.Javascript object>"
            ],
            "application/javascript": [
              "download(\"download_d6483547-6a10-4a74-9438-45b9d2864273\", \"test_ZigzagTeam.csv\", 98353)"
            ]
          },
          "metadata": {}
        },
        {
          "output_type": "stream",
          "name": "stdout",
          "text": [
            "berhasil test dijadikan csv!\n"
          ]
        }
      ]
    },
    {
      "cell_type": "markdown",
      "source": [
        "# PEMODELAN"
      ],
      "metadata": {
        "id": "tZW2nPlf1bCf"
      }
    },
    {
      "cell_type": "markdown",
      "source": [
        "## REGRESI LINIEAR"
      ],
      "metadata": {
        "id": "mwLvyfmFFgg8"
      }
    },
    {
      "cell_type": "code",
      "source": [],
      "metadata": {
        "id": "Xe3MdLnoJ9li"
      },
      "execution_count": null,
      "outputs": []
    },
    {
      "cell_type": "code",
      "source": [
        "df_train.columns"
      ],
      "metadata": {
        "colab": {
          "base_uri": "https://localhost:8080/"
        },
        "id": "d7McC1dTF1bD",
        "outputId": "10e70db3-71b7-42d0-f3d2-623a90c2e388"
      },
      "execution_count": null,
      "outputs": [
        {
          "output_type": "execute_result",
          "data": {
            "text/plain": [
              "Index(['id', 'Alkalinity, total', 'Calcium', 'Chloride', 'Fluoride',\n",
              "       'Magnesium', 'Nitrate as N', 'Sodium', 'Specific Conductivity',\n",
              "       'Sulfate', 'Total Dissolved Solids', 'Hardness'],\n",
              "      dtype='object')"
            ]
          },
          "metadata": {},
          "execution_count": 24
        }
      ]
    },
    {
      "cell_type": "code",
      "source": [
        "df_pemodelan = df_train.copy()"
      ],
      "metadata": {
        "id": "RAdLGgaEcL4D"
      },
      "execution_count": null,
      "outputs": []
    },
    {
      "cell_type": "code",
      "source": [
        "df_pemodelan= df_pemodelan.drop(['id'],axis=1)\n",
        "df_pemodelan.head()"
      ],
      "metadata": {
        "colab": {
          "base_uri": "https://localhost:8080/",
          "height": 223
        },
        "id": "9XOywLfbcUQa",
        "outputId": "6c1eb8b4-f69c-41a3-a81e-15dbcf7cb7bd"
      },
      "execution_count": null,
      "outputs": [
        {
          "output_type": "execute_result",
          "data": {
            "text/plain": [
              "   Alkalinity, total  Calcium  Chloride  Fluoride  Magnesium  Nitrate as N  \\\n",
              "0              120.0     24.0       6.9     0.314        7.1         0.498   \n",
              "1              140.0     41.0      11.0     0.150        6.5         0.950   \n",
              "2              160.0     51.0       9.0     0.450        9.1         2.500   \n",
              "3               46.0     13.0       2.9     0.120        2.7         0.430   \n",
              "4              240.0    147.0      70.0     0.600       48.0         6.800   \n",
              "\n",
              "   Sodium  Specific Conductivity  Sulfate  Total Dissolved Solids  Hardness  \n",
              "0    48.0                  510.0     23.2                   240.0      90.4  \n",
              "1    19.0                  300.0      8.5                   190.0     130.0  \n",
              "2    12.0                  370.0     25.0                   230.0     160.0  \n",
              "3     6.4                  110.0      5.0                    97.0      41.0  \n",
              "4    93.0                 1410.0    418.0                   950.0     586.0  "
            ],
            "text/html": [
              "\n",
              "  <div id=\"df-2f5254ee-02d0-4ad4-b884-7d30ae47edf1\" class=\"colab-df-container\">\n",
              "    <div>\n",
              "<style scoped>\n",
              "    .dataframe tbody tr th:only-of-type {\n",
              "        vertical-align: middle;\n",
              "    }\n",
              "\n",
              "    .dataframe tbody tr th {\n",
              "        vertical-align: top;\n",
              "    }\n",
              "\n",
              "    .dataframe thead th {\n",
              "        text-align: right;\n",
              "    }\n",
              "</style>\n",
              "<table border=\"1\" class=\"dataframe\">\n",
              "  <thead>\n",
              "    <tr style=\"text-align: right;\">\n",
              "      <th></th>\n",
              "      <th>Alkalinity, total</th>\n",
              "      <th>Calcium</th>\n",
              "      <th>Chloride</th>\n",
              "      <th>Fluoride</th>\n",
              "      <th>Magnesium</th>\n",
              "      <th>Nitrate as N</th>\n",
              "      <th>Sodium</th>\n",
              "      <th>Specific Conductivity</th>\n",
              "      <th>Sulfate</th>\n",
              "      <th>Total Dissolved Solids</th>\n",
              "      <th>Hardness</th>\n",
              "    </tr>\n",
              "  </thead>\n",
              "  <tbody>\n",
              "    <tr>\n",
              "      <th>0</th>\n",
              "      <td>120.0</td>\n",
              "      <td>24.0</td>\n",
              "      <td>6.9</td>\n",
              "      <td>0.314</td>\n",
              "      <td>7.1</td>\n",
              "      <td>0.498</td>\n",
              "      <td>48.0</td>\n",
              "      <td>510.0</td>\n",
              "      <td>23.2</td>\n",
              "      <td>240.0</td>\n",
              "      <td>90.4</td>\n",
              "    </tr>\n",
              "    <tr>\n",
              "      <th>1</th>\n",
              "      <td>140.0</td>\n",
              "      <td>41.0</td>\n",
              "      <td>11.0</td>\n",
              "      <td>0.150</td>\n",
              "      <td>6.5</td>\n",
              "      <td>0.950</td>\n",
              "      <td>19.0</td>\n",
              "      <td>300.0</td>\n",
              "      <td>8.5</td>\n",
              "      <td>190.0</td>\n",
              "      <td>130.0</td>\n",
              "    </tr>\n",
              "    <tr>\n",
              "      <th>2</th>\n",
              "      <td>160.0</td>\n",
              "      <td>51.0</td>\n",
              "      <td>9.0</td>\n",
              "      <td>0.450</td>\n",
              "      <td>9.1</td>\n",
              "      <td>2.500</td>\n",
              "      <td>12.0</td>\n",
              "      <td>370.0</td>\n",
              "      <td>25.0</td>\n",
              "      <td>230.0</td>\n",
              "      <td>160.0</td>\n",
              "    </tr>\n",
              "    <tr>\n",
              "      <th>3</th>\n",
              "      <td>46.0</td>\n",
              "      <td>13.0</td>\n",
              "      <td>2.9</td>\n",
              "      <td>0.120</td>\n",
              "      <td>2.7</td>\n",
              "      <td>0.430</td>\n",
              "      <td>6.4</td>\n",
              "      <td>110.0</td>\n",
              "      <td>5.0</td>\n",
              "      <td>97.0</td>\n",
              "      <td>41.0</td>\n",
              "    </tr>\n",
              "    <tr>\n",
              "      <th>4</th>\n",
              "      <td>240.0</td>\n",
              "      <td>147.0</td>\n",
              "      <td>70.0</td>\n",
              "      <td>0.600</td>\n",
              "      <td>48.0</td>\n",
              "      <td>6.800</td>\n",
              "      <td>93.0</td>\n",
              "      <td>1410.0</td>\n",
              "      <td>418.0</td>\n",
              "      <td>950.0</td>\n",
              "      <td>586.0</td>\n",
              "    </tr>\n",
              "  </tbody>\n",
              "</table>\n",
              "</div>\n",
              "    <div class=\"colab-df-buttons\">\n",
              "\n",
              "  <div class=\"colab-df-container\">\n",
              "    <button class=\"colab-df-convert\" onclick=\"convertToInteractive('df-2f5254ee-02d0-4ad4-b884-7d30ae47edf1')\"\n",
              "            title=\"Convert this dataframe to an interactive table.\"\n",
              "            style=\"display:none;\">\n",
              "\n",
              "  <svg xmlns=\"http://www.w3.org/2000/svg\" height=\"24px\" viewBox=\"0 -960 960 960\">\n",
              "    <path d=\"M120-120v-720h720v720H120Zm60-500h600v-160H180v160Zm220 220h160v-160H400v160Zm0 220h160v-160H400v160ZM180-400h160v-160H180v160Zm440 0h160v-160H620v160ZM180-180h160v-160H180v160Zm440 0h160v-160H620v160Z\"/>\n",
              "  </svg>\n",
              "    </button>\n",
              "\n",
              "  <style>\n",
              "    .colab-df-container {\n",
              "      display:flex;\n",
              "      gap: 12px;\n",
              "    }\n",
              "\n",
              "    .colab-df-convert {\n",
              "      background-color: #E8F0FE;\n",
              "      border: none;\n",
              "      border-radius: 50%;\n",
              "      cursor: pointer;\n",
              "      display: none;\n",
              "      fill: #1967D2;\n",
              "      height: 32px;\n",
              "      padding: 0 0 0 0;\n",
              "      width: 32px;\n",
              "    }\n",
              "\n",
              "    .colab-df-convert:hover {\n",
              "      background-color: #E2EBFA;\n",
              "      box-shadow: 0px 1px 2px rgba(60, 64, 67, 0.3), 0px 1px 3px 1px rgba(60, 64, 67, 0.15);\n",
              "      fill: #174EA6;\n",
              "    }\n",
              "\n",
              "    .colab-df-buttons div {\n",
              "      margin-bottom: 4px;\n",
              "    }\n",
              "\n",
              "    [theme=dark] .colab-df-convert {\n",
              "      background-color: #3B4455;\n",
              "      fill: #D2E3FC;\n",
              "    }\n",
              "\n",
              "    [theme=dark] .colab-df-convert:hover {\n",
              "      background-color: #434B5C;\n",
              "      box-shadow: 0px 1px 3px 1px rgba(0, 0, 0, 0.15);\n",
              "      filter: drop-shadow(0px 1px 2px rgba(0, 0, 0, 0.3));\n",
              "      fill: #FFFFFF;\n",
              "    }\n",
              "  </style>\n",
              "\n",
              "    <script>\n",
              "      const buttonEl =\n",
              "        document.querySelector('#df-2f5254ee-02d0-4ad4-b884-7d30ae47edf1 button.colab-df-convert');\n",
              "      buttonEl.style.display =\n",
              "        google.colab.kernel.accessAllowed ? 'block' : 'none';\n",
              "\n",
              "      async function convertToInteractive(key) {\n",
              "        const element = document.querySelector('#df-2f5254ee-02d0-4ad4-b884-7d30ae47edf1');\n",
              "        const dataTable =\n",
              "          await google.colab.kernel.invokeFunction('convertToInteractive',\n",
              "                                                    [key], {});\n",
              "        if (!dataTable) return;\n",
              "\n",
              "        const docLinkHtml = 'Like what you see? Visit the ' +\n",
              "          '<a target=\"_blank\" href=https://colab.research.google.com/notebooks/data_table.ipynb>data table notebook</a>'\n",
              "          + ' to learn more about interactive tables.';\n",
              "        element.innerHTML = '';\n",
              "        dataTable['output_type'] = 'display_data';\n",
              "        await google.colab.output.renderOutput(dataTable, element);\n",
              "        const docLink = document.createElement('div');\n",
              "        docLink.innerHTML = docLinkHtml;\n",
              "        element.appendChild(docLink);\n",
              "      }\n",
              "    </script>\n",
              "  </div>\n",
              "\n",
              "\n",
              "<div id=\"df-2b2395b3-cfbf-4e27-aa9e-565c2b9b18f0\">\n",
              "  <button class=\"colab-df-quickchart\" onclick=\"quickchart('df-2b2395b3-cfbf-4e27-aa9e-565c2b9b18f0')\"\n",
              "            title=\"Suggest charts\"\n",
              "            style=\"display:none;\">\n",
              "\n",
              "<svg xmlns=\"http://www.w3.org/2000/svg\" height=\"24px\"viewBox=\"0 0 24 24\"\n",
              "     width=\"24px\">\n",
              "    <g>\n",
              "        <path d=\"M19 3H5c-1.1 0-2 .9-2 2v14c0 1.1.9 2 2 2h14c1.1 0 2-.9 2-2V5c0-1.1-.9-2-2-2zM9 17H7v-7h2v7zm4 0h-2V7h2v10zm4 0h-2v-4h2v4z\"/>\n",
              "    </g>\n",
              "</svg>\n",
              "  </button>\n",
              "\n",
              "<style>\n",
              "  .colab-df-quickchart {\n",
              "      --bg-color: #E8F0FE;\n",
              "      --fill-color: #1967D2;\n",
              "      --hover-bg-color: #E2EBFA;\n",
              "      --hover-fill-color: #174EA6;\n",
              "      --disabled-fill-color: #AAA;\n",
              "      --disabled-bg-color: #DDD;\n",
              "  }\n",
              "\n",
              "  [theme=dark] .colab-df-quickchart {\n",
              "      --bg-color: #3B4455;\n",
              "      --fill-color: #D2E3FC;\n",
              "      --hover-bg-color: #434B5C;\n",
              "      --hover-fill-color: #FFFFFF;\n",
              "      --disabled-bg-color: #3B4455;\n",
              "      --disabled-fill-color: #666;\n",
              "  }\n",
              "\n",
              "  .colab-df-quickchart {\n",
              "    background-color: var(--bg-color);\n",
              "    border: none;\n",
              "    border-radius: 50%;\n",
              "    cursor: pointer;\n",
              "    display: none;\n",
              "    fill: var(--fill-color);\n",
              "    height: 32px;\n",
              "    padding: 0;\n",
              "    width: 32px;\n",
              "  }\n",
              "\n",
              "  .colab-df-quickchart:hover {\n",
              "    background-color: var(--hover-bg-color);\n",
              "    box-shadow: 0 1px 2px rgba(60, 64, 67, 0.3), 0 1px 3px 1px rgba(60, 64, 67, 0.15);\n",
              "    fill: var(--button-hover-fill-color);\n",
              "  }\n",
              "\n",
              "  .colab-df-quickchart-complete:disabled,\n",
              "  .colab-df-quickchart-complete:disabled:hover {\n",
              "    background-color: var(--disabled-bg-color);\n",
              "    fill: var(--disabled-fill-color);\n",
              "    box-shadow: none;\n",
              "  }\n",
              "\n",
              "  .colab-df-spinner {\n",
              "    border: 2px solid var(--fill-color);\n",
              "    border-color: transparent;\n",
              "    border-bottom-color: var(--fill-color);\n",
              "    animation:\n",
              "      spin 1s steps(1) infinite;\n",
              "  }\n",
              "\n",
              "  @keyframes spin {\n",
              "    0% {\n",
              "      border-color: transparent;\n",
              "      border-bottom-color: var(--fill-color);\n",
              "      border-left-color: var(--fill-color);\n",
              "    }\n",
              "    20% {\n",
              "      border-color: transparent;\n",
              "      border-left-color: var(--fill-color);\n",
              "      border-top-color: var(--fill-color);\n",
              "    }\n",
              "    30% {\n",
              "      border-color: transparent;\n",
              "      border-left-color: var(--fill-color);\n",
              "      border-top-color: var(--fill-color);\n",
              "      border-right-color: var(--fill-color);\n",
              "    }\n",
              "    40% {\n",
              "      border-color: transparent;\n",
              "      border-right-color: var(--fill-color);\n",
              "      border-top-color: var(--fill-color);\n",
              "    }\n",
              "    60% {\n",
              "      border-color: transparent;\n",
              "      border-right-color: var(--fill-color);\n",
              "    }\n",
              "    80% {\n",
              "      border-color: transparent;\n",
              "      border-right-color: var(--fill-color);\n",
              "      border-bottom-color: var(--fill-color);\n",
              "    }\n",
              "    90% {\n",
              "      border-color: transparent;\n",
              "      border-bottom-color: var(--fill-color);\n",
              "    }\n",
              "  }\n",
              "</style>\n",
              "\n",
              "  <script>\n",
              "    async function quickchart(key) {\n",
              "      const quickchartButtonEl =\n",
              "        document.querySelector('#' + key + ' button');\n",
              "      quickchartButtonEl.disabled = true;  // To prevent multiple clicks.\n",
              "      quickchartButtonEl.classList.add('colab-df-spinner');\n",
              "      try {\n",
              "        const charts = await google.colab.kernel.invokeFunction(\n",
              "            'suggestCharts', [key], {});\n",
              "      } catch (error) {\n",
              "        console.error('Error during call to suggestCharts:', error);\n",
              "      }\n",
              "      quickchartButtonEl.classList.remove('colab-df-spinner');\n",
              "      quickchartButtonEl.classList.add('colab-df-quickchart-complete');\n",
              "    }\n",
              "    (() => {\n",
              "      let quickchartButtonEl =\n",
              "        document.querySelector('#df-2b2395b3-cfbf-4e27-aa9e-565c2b9b18f0 button');\n",
              "      quickchartButtonEl.style.display =\n",
              "        google.colab.kernel.accessAllowed ? 'block' : 'none';\n",
              "    })();\n",
              "  </script>\n",
              "</div>\n",
              "\n",
              "    </div>\n",
              "  </div>\n"
            ],
            "application/vnd.google.colaboratory.intrinsic+json": {
              "type": "dataframe",
              "variable_name": "df_pemodelan",
              "summary": "{\n  \"name\": \"df_pemodelan\",\n  \"rows\": 6400,\n  \"fields\": [\n    {\n      \"column\": \"Alkalinity, total\",\n      \"properties\": {\n        \"dtype\": \"number\",\n        \"std\": 83.15780330063338,\n        \"min\": 12.0,\n        \"max\": 1000.0,\n        \"num_unique_values\": 466,\n        \"samples\": [\n          97.0,\n          157.0,\n          198.0\n        ],\n        \"semantic_type\": \"\",\n        \"description\": \"\"\n      }\n    },\n    {\n      \"column\": \"Calcium\",\n      \"properties\": {\n        \"dtype\": \"number\",\n        \"std\": 1052.1364516850285,\n        \"min\": 0.61,\n        \"max\": 83000.0,\n        \"num_unique_values\": 734,\n        \"samples\": [\n          42.3,\n          25.0,\n          61.6\n        ],\n        \"semantic_type\": \"\",\n        \"description\": \"\"\n      }\n    },\n    {\n      \"column\": \"Chloride\",\n      \"properties\": {\n        \"dtype\": \"number\",\n        \"std\": 92.93450531942872,\n        \"min\": 0.58,\n        \"max\": 2100.0,\n        \"num_unique_values\": 753,\n        \"samples\": [\n          58.9,\n          46.3,\n          34.5\n        ],\n        \"semantic_type\": \"\",\n        \"description\": \"\"\n      }\n    },\n    {\n      \"column\": \"Fluoride\",\n      \"properties\": {\n        \"dtype\": \"number\",\n        \"std\": 0.45247268594727286,\n        \"min\": 0.049,\n        \"max\": 9.0,\n        \"num_unique_values\": 315,\n        \"samples\": [\n          5.1,\n          0.49,\n          0.85\n        ],\n        \"semantic_type\": \"\",\n        \"description\": \"\"\n      }\n    },\n    {\n      \"column\": \"Magnesium\",\n      \"properties\": {\n        \"dtype\": \"number\",\n        \"std\": 325.3895032002857,\n        \"min\": 0.051,\n        \"max\": 26000.0,\n        \"num_unique_values\": 665,\n        \"samples\": [\n          42.1,\n          6.53,\n          4.59\n        ],\n        \"semantic_type\": \"\",\n        \"description\": \"\"\n      }\n    },\n    {\n      \"column\": \"Nitrate as N\",\n      \"properties\": {\n        \"dtype\": \"number\",\n        \"std\": 4.878279385823561,\n        \"min\": 0.0023,\n        \"max\": 106.0,\n        \"num_unique_values\": 899,\n        \"samples\": [\n          1.73,\n          3.66,\n          0.897\n        ],\n        \"semantic_type\": \"\",\n        \"description\": \"\"\n      }\n    },\n    {\n      \"column\": \"Sodium\",\n      \"properties\": {\n        \"dtype\": \"number\",\n        \"std\": 556.891904058765,\n        \"min\": 1.3,\n        \"max\": 32000.0,\n        \"num_unique_values\": 691,\n        \"samples\": [\n          203.0,\n          98.8,\n          61.763\n        ],\n        \"semantic_type\": \"\",\n        \"description\": \"\"\n      }\n    },\n    {\n      \"column\": \"Specific Conductivity\",\n      \"properties\": {\n        \"dtype\": \"number\",\n        \"std\": 597.2972740145201,\n        \"min\": 40.0,\n        \"max\": 31400.0,\n        \"num_unique_values\": 937,\n        \"samples\": [\n          2640.0,\n          530.0,\n          150.0\n        ],\n        \"semantic_type\": \"\",\n        \"description\": \"\"\n      }\n    },\n    {\n      \"column\": \"Sulfate\",\n      \"properties\": {\n        \"dtype\": \"number\",\n        \"std\": 108.41404876940364,\n        \"min\": 0.14,\n        \"max\": 2000.0,\n        \"num_unique_values\": 851,\n        \"samples\": [\n          9.8,\n          8.3,\n          50.2\n        ],\n        \"semantic_type\": \"\",\n        \"description\": \"\"\n      }\n    },\n    {\n      \"column\": \"Total Dissolved Solids\",\n      \"properties\": {\n        \"dtype\": \"number\",\n        \"std\": 302.95844223106144,\n        \"min\": 19.58,\n        \"max\": 4100.0,\n        \"num_unique_values\": 657,\n        \"samples\": [\n          423.0,\n          441.0,\n          833.0\n        ],\n        \"semantic_type\": \"\",\n        \"description\": \"\"\n      }\n    },\n    {\n      \"column\": \"Hardness\",\n      \"properties\": {\n        \"dtype\": \"number\",\n        \"std\": 161.43152631877237,\n        \"min\": 2.5,\n        \"max\": 1901.0,\n        \"num_unique_values\": 873,\n        \"samples\": [\n          790.0,\n          101.0,\n          124.612\n        ],\n        \"semantic_type\": \"\",\n        \"description\": \"\"\n      }\n    }\n  ]\n}"
            }
          },
          "metadata": {},
          "execution_count": 26
        }
      ]
    },
    {
      "cell_type": "code",
      "source": [
        "seed =50\n",
        "LABEL = 'Hardness'\n",
        "X, y = df_pemodelan.drop(columns=[LABEL]), df_pemodelan[LABEL]\n",
        "X"
      ],
      "metadata": {
        "colab": {
          "base_uri": "https://localhost:8080/",
          "height": 423
        },
        "id": "30GaePDZbjkM",
        "outputId": "a58fbff0-c689-4941-fc3a-a371bba22384"
      },
      "execution_count": null,
      "outputs": [
        {
          "output_type": "execute_result",
          "data": {
            "text/plain": [
              "      Alkalinity, total  Calcium  Chloride  Fluoride  Magnesium  Nitrate as N  \\\n",
              "0                 120.0     24.0       6.9     0.314        7.1         0.498   \n",
              "1                 140.0     41.0      11.0     0.150        6.5         0.950   \n",
              "2                 160.0     51.0       9.0     0.450        9.1         2.500   \n",
              "3                  46.0     13.0       2.9     0.120        2.7         0.430   \n",
              "4                 240.0    147.0      70.0     0.600       48.0         6.800   \n",
              "...                 ...      ...       ...       ...        ...           ...   \n",
              "6395              180.0     58.0      40.0     0.180       25.0         3.600   \n",
              "6396               44.0      5.7       3.0     0.120        3.7         0.470   \n",
              "6397              138.0     40.3      28.4     0.100       14.2         8.600   \n",
              "6398              210.0    110.0     190.0     0.230       47.0         7.900   \n",
              "6399              175.0     63.1      26.8     0.470       11.2         0.700   \n",
              "\n",
              "      Sodium  Specific Conductivity  Sulfate  Total Dissolved Solids  \n",
              "0       48.0                  510.0    23.20                   240.0  \n",
              "1       19.0                  300.0     8.50                   190.0  \n",
              "2       12.0                  370.0    25.00                   230.0  \n",
              "3        6.4                  110.0     5.00                    97.0  \n",
              "4       93.0                 1410.0   418.00                   950.0  \n",
              "...      ...                    ...      ...                     ...  \n",
              "6395    22.0                  540.0    48.00                   400.0  \n",
              "6396     5.9                  100.0     0.85                    56.0  \n",
              "6397    31.0                  438.0    17.70                   300.0  \n",
              "6398   120.0                 1400.0   140.00                   800.0  \n",
              "6399    37.6                  518.0    57.60                   306.0  \n",
              "\n",
              "[6400 rows x 10 columns]"
            ],
            "text/html": [
              "\n",
              "  <div id=\"df-3d68bf70-588f-4a2e-b3b5-cfd2ef6c7f80\" class=\"colab-df-container\">\n",
              "    <div>\n",
              "<style scoped>\n",
              "    .dataframe tbody tr th:only-of-type {\n",
              "        vertical-align: middle;\n",
              "    }\n",
              "\n",
              "    .dataframe tbody tr th {\n",
              "        vertical-align: top;\n",
              "    }\n",
              "\n",
              "    .dataframe thead th {\n",
              "        text-align: right;\n",
              "    }\n",
              "</style>\n",
              "<table border=\"1\" class=\"dataframe\">\n",
              "  <thead>\n",
              "    <tr style=\"text-align: right;\">\n",
              "      <th></th>\n",
              "      <th>Alkalinity, total</th>\n",
              "      <th>Calcium</th>\n",
              "      <th>Chloride</th>\n",
              "      <th>Fluoride</th>\n",
              "      <th>Magnesium</th>\n",
              "      <th>Nitrate as N</th>\n",
              "      <th>Sodium</th>\n",
              "      <th>Specific Conductivity</th>\n",
              "      <th>Sulfate</th>\n",
              "      <th>Total Dissolved Solids</th>\n",
              "    </tr>\n",
              "  </thead>\n",
              "  <tbody>\n",
              "    <tr>\n",
              "      <th>0</th>\n",
              "      <td>120.0</td>\n",
              "      <td>24.0</td>\n",
              "      <td>6.9</td>\n",
              "      <td>0.314</td>\n",
              "      <td>7.1</td>\n",
              "      <td>0.498</td>\n",
              "      <td>48.0</td>\n",
              "      <td>510.0</td>\n",
              "      <td>23.20</td>\n",
              "      <td>240.0</td>\n",
              "    </tr>\n",
              "    <tr>\n",
              "      <th>1</th>\n",
              "      <td>140.0</td>\n",
              "      <td>41.0</td>\n",
              "      <td>11.0</td>\n",
              "      <td>0.150</td>\n",
              "      <td>6.5</td>\n",
              "      <td>0.950</td>\n",
              "      <td>19.0</td>\n",
              "      <td>300.0</td>\n",
              "      <td>8.50</td>\n",
              "      <td>190.0</td>\n",
              "    </tr>\n",
              "    <tr>\n",
              "      <th>2</th>\n",
              "      <td>160.0</td>\n",
              "      <td>51.0</td>\n",
              "      <td>9.0</td>\n",
              "      <td>0.450</td>\n",
              "      <td>9.1</td>\n",
              "      <td>2.500</td>\n",
              "      <td>12.0</td>\n",
              "      <td>370.0</td>\n",
              "      <td>25.00</td>\n",
              "      <td>230.0</td>\n",
              "    </tr>\n",
              "    <tr>\n",
              "      <th>3</th>\n",
              "      <td>46.0</td>\n",
              "      <td>13.0</td>\n",
              "      <td>2.9</td>\n",
              "      <td>0.120</td>\n",
              "      <td>2.7</td>\n",
              "      <td>0.430</td>\n",
              "      <td>6.4</td>\n",
              "      <td>110.0</td>\n",
              "      <td>5.00</td>\n",
              "      <td>97.0</td>\n",
              "    </tr>\n",
              "    <tr>\n",
              "      <th>4</th>\n",
              "      <td>240.0</td>\n",
              "      <td>147.0</td>\n",
              "      <td>70.0</td>\n",
              "      <td>0.600</td>\n",
              "      <td>48.0</td>\n",
              "      <td>6.800</td>\n",
              "      <td>93.0</td>\n",
              "      <td>1410.0</td>\n",
              "      <td>418.00</td>\n",
              "      <td>950.0</td>\n",
              "    </tr>\n",
              "    <tr>\n",
              "      <th>...</th>\n",
              "      <td>...</td>\n",
              "      <td>...</td>\n",
              "      <td>...</td>\n",
              "      <td>...</td>\n",
              "      <td>...</td>\n",
              "      <td>...</td>\n",
              "      <td>...</td>\n",
              "      <td>...</td>\n",
              "      <td>...</td>\n",
              "      <td>...</td>\n",
              "    </tr>\n",
              "    <tr>\n",
              "      <th>6395</th>\n",
              "      <td>180.0</td>\n",
              "      <td>58.0</td>\n",
              "      <td>40.0</td>\n",
              "      <td>0.180</td>\n",
              "      <td>25.0</td>\n",
              "      <td>3.600</td>\n",
              "      <td>22.0</td>\n",
              "      <td>540.0</td>\n",
              "      <td>48.00</td>\n",
              "      <td>400.0</td>\n",
              "    </tr>\n",
              "    <tr>\n",
              "      <th>6396</th>\n",
              "      <td>44.0</td>\n",
              "      <td>5.7</td>\n",
              "      <td>3.0</td>\n",
              "      <td>0.120</td>\n",
              "      <td>3.7</td>\n",
              "      <td>0.470</td>\n",
              "      <td>5.9</td>\n",
              "      <td>100.0</td>\n",
              "      <td>0.85</td>\n",
              "      <td>56.0</td>\n",
              "    </tr>\n",
              "    <tr>\n",
              "      <th>6397</th>\n",
              "      <td>138.0</td>\n",
              "      <td>40.3</td>\n",
              "      <td>28.4</td>\n",
              "      <td>0.100</td>\n",
              "      <td>14.2</td>\n",
              "      <td>8.600</td>\n",
              "      <td>31.0</td>\n",
              "      <td>438.0</td>\n",
              "      <td>17.70</td>\n",
              "      <td>300.0</td>\n",
              "    </tr>\n",
              "    <tr>\n",
              "      <th>6398</th>\n",
              "      <td>210.0</td>\n",
              "      <td>110.0</td>\n",
              "      <td>190.0</td>\n",
              "      <td>0.230</td>\n",
              "      <td>47.0</td>\n",
              "      <td>7.900</td>\n",
              "      <td>120.0</td>\n",
              "      <td>1400.0</td>\n",
              "      <td>140.00</td>\n",
              "      <td>800.0</td>\n",
              "    </tr>\n",
              "    <tr>\n",
              "      <th>6399</th>\n",
              "      <td>175.0</td>\n",
              "      <td>63.1</td>\n",
              "      <td>26.8</td>\n",
              "      <td>0.470</td>\n",
              "      <td>11.2</td>\n",
              "      <td>0.700</td>\n",
              "      <td>37.6</td>\n",
              "      <td>518.0</td>\n",
              "      <td>57.60</td>\n",
              "      <td>306.0</td>\n",
              "    </tr>\n",
              "  </tbody>\n",
              "</table>\n",
              "<p>6400 rows × 10 columns</p>\n",
              "</div>\n",
              "    <div class=\"colab-df-buttons\">\n",
              "\n",
              "  <div class=\"colab-df-container\">\n",
              "    <button class=\"colab-df-convert\" onclick=\"convertToInteractive('df-3d68bf70-588f-4a2e-b3b5-cfd2ef6c7f80')\"\n",
              "            title=\"Convert this dataframe to an interactive table.\"\n",
              "            style=\"display:none;\">\n",
              "\n",
              "  <svg xmlns=\"http://www.w3.org/2000/svg\" height=\"24px\" viewBox=\"0 -960 960 960\">\n",
              "    <path d=\"M120-120v-720h720v720H120Zm60-500h600v-160H180v160Zm220 220h160v-160H400v160Zm0 220h160v-160H400v160ZM180-400h160v-160H180v160Zm440 0h160v-160H620v160ZM180-180h160v-160H180v160Zm440 0h160v-160H620v160Z\"/>\n",
              "  </svg>\n",
              "    </button>\n",
              "\n",
              "  <style>\n",
              "    .colab-df-container {\n",
              "      display:flex;\n",
              "      gap: 12px;\n",
              "    }\n",
              "\n",
              "    .colab-df-convert {\n",
              "      background-color: #E8F0FE;\n",
              "      border: none;\n",
              "      border-radius: 50%;\n",
              "      cursor: pointer;\n",
              "      display: none;\n",
              "      fill: #1967D2;\n",
              "      height: 32px;\n",
              "      padding: 0 0 0 0;\n",
              "      width: 32px;\n",
              "    }\n",
              "\n",
              "    .colab-df-convert:hover {\n",
              "      background-color: #E2EBFA;\n",
              "      box-shadow: 0px 1px 2px rgba(60, 64, 67, 0.3), 0px 1px 3px 1px rgba(60, 64, 67, 0.15);\n",
              "      fill: #174EA6;\n",
              "    }\n",
              "\n",
              "    .colab-df-buttons div {\n",
              "      margin-bottom: 4px;\n",
              "    }\n",
              "\n",
              "    [theme=dark] .colab-df-convert {\n",
              "      background-color: #3B4455;\n",
              "      fill: #D2E3FC;\n",
              "    }\n",
              "\n",
              "    [theme=dark] .colab-df-convert:hover {\n",
              "      background-color: #434B5C;\n",
              "      box-shadow: 0px 1px 3px 1px rgba(0, 0, 0, 0.15);\n",
              "      filter: drop-shadow(0px 1px 2px rgba(0, 0, 0, 0.3));\n",
              "      fill: #FFFFFF;\n",
              "    }\n",
              "  </style>\n",
              "\n",
              "    <script>\n",
              "      const buttonEl =\n",
              "        document.querySelector('#df-3d68bf70-588f-4a2e-b3b5-cfd2ef6c7f80 button.colab-df-convert');\n",
              "      buttonEl.style.display =\n",
              "        google.colab.kernel.accessAllowed ? 'block' : 'none';\n",
              "\n",
              "      async function convertToInteractive(key) {\n",
              "        const element = document.querySelector('#df-3d68bf70-588f-4a2e-b3b5-cfd2ef6c7f80');\n",
              "        const dataTable =\n",
              "          await google.colab.kernel.invokeFunction('convertToInteractive',\n",
              "                                                    [key], {});\n",
              "        if (!dataTable) return;\n",
              "\n",
              "        const docLinkHtml = 'Like what you see? Visit the ' +\n",
              "          '<a target=\"_blank\" href=https://colab.research.google.com/notebooks/data_table.ipynb>data table notebook</a>'\n",
              "          + ' to learn more about interactive tables.';\n",
              "        element.innerHTML = '';\n",
              "        dataTable['output_type'] = 'display_data';\n",
              "        await google.colab.output.renderOutput(dataTable, element);\n",
              "        const docLink = document.createElement('div');\n",
              "        docLink.innerHTML = docLinkHtml;\n",
              "        element.appendChild(docLink);\n",
              "      }\n",
              "    </script>\n",
              "  </div>\n",
              "\n",
              "\n",
              "<div id=\"df-13f21cd8-d8f1-43dd-90be-0718e3280ee9\">\n",
              "  <button class=\"colab-df-quickchart\" onclick=\"quickchart('df-13f21cd8-d8f1-43dd-90be-0718e3280ee9')\"\n",
              "            title=\"Suggest charts\"\n",
              "            style=\"display:none;\">\n",
              "\n",
              "<svg xmlns=\"http://www.w3.org/2000/svg\" height=\"24px\"viewBox=\"0 0 24 24\"\n",
              "     width=\"24px\">\n",
              "    <g>\n",
              "        <path d=\"M19 3H5c-1.1 0-2 .9-2 2v14c0 1.1.9 2 2 2h14c1.1 0 2-.9 2-2V5c0-1.1-.9-2-2-2zM9 17H7v-7h2v7zm4 0h-2V7h2v10zm4 0h-2v-4h2v4z\"/>\n",
              "    </g>\n",
              "</svg>\n",
              "  </button>\n",
              "\n",
              "<style>\n",
              "  .colab-df-quickchart {\n",
              "      --bg-color: #E8F0FE;\n",
              "      --fill-color: #1967D2;\n",
              "      --hover-bg-color: #E2EBFA;\n",
              "      --hover-fill-color: #174EA6;\n",
              "      --disabled-fill-color: #AAA;\n",
              "      --disabled-bg-color: #DDD;\n",
              "  }\n",
              "\n",
              "  [theme=dark] .colab-df-quickchart {\n",
              "      --bg-color: #3B4455;\n",
              "      --fill-color: #D2E3FC;\n",
              "      --hover-bg-color: #434B5C;\n",
              "      --hover-fill-color: #FFFFFF;\n",
              "      --disabled-bg-color: #3B4455;\n",
              "      --disabled-fill-color: #666;\n",
              "  }\n",
              "\n",
              "  .colab-df-quickchart {\n",
              "    background-color: var(--bg-color);\n",
              "    border: none;\n",
              "    border-radius: 50%;\n",
              "    cursor: pointer;\n",
              "    display: none;\n",
              "    fill: var(--fill-color);\n",
              "    height: 32px;\n",
              "    padding: 0;\n",
              "    width: 32px;\n",
              "  }\n",
              "\n",
              "  .colab-df-quickchart:hover {\n",
              "    background-color: var(--hover-bg-color);\n",
              "    box-shadow: 0 1px 2px rgba(60, 64, 67, 0.3), 0 1px 3px 1px rgba(60, 64, 67, 0.15);\n",
              "    fill: var(--button-hover-fill-color);\n",
              "  }\n",
              "\n",
              "  .colab-df-quickchart-complete:disabled,\n",
              "  .colab-df-quickchart-complete:disabled:hover {\n",
              "    background-color: var(--disabled-bg-color);\n",
              "    fill: var(--disabled-fill-color);\n",
              "    box-shadow: none;\n",
              "  }\n",
              "\n",
              "  .colab-df-spinner {\n",
              "    border: 2px solid var(--fill-color);\n",
              "    border-color: transparent;\n",
              "    border-bottom-color: var(--fill-color);\n",
              "    animation:\n",
              "      spin 1s steps(1) infinite;\n",
              "  }\n",
              "\n",
              "  @keyframes spin {\n",
              "    0% {\n",
              "      border-color: transparent;\n",
              "      border-bottom-color: var(--fill-color);\n",
              "      border-left-color: var(--fill-color);\n",
              "    }\n",
              "    20% {\n",
              "      border-color: transparent;\n",
              "      border-left-color: var(--fill-color);\n",
              "      border-top-color: var(--fill-color);\n",
              "    }\n",
              "    30% {\n",
              "      border-color: transparent;\n",
              "      border-left-color: var(--fill-color);\n",
              "      border-top-color: var(--fill-color);\n",
              "      border-right-color: var(--fill-color);\n",
              "    }\n",
              "    40% {\n",
              "      border-color: transparent;\n",
              "      border-right-color: var(--fill-color);\n",
              "      border-top-color: var(--fill-color);\n",
              "    }\n",
              "    60% {\n",
              "      border-color: transparent;\n",
              "      border-right-color: var(--fill-color);\n",
              "    }\n",
              "    80% {\n",
              "      border-color: transparent;\n",
              "      border-right-color: var(--fill-color);\n",
              "      border-bottom-color: var(--fill-color);\n",
              "    }\n",
              "    90% {\n",
              "      border-color: transparent;\n",
              "      border-bottom-color: var(--fill-color);\n",
              "    }\n",
              "  }\n",
              "</style>\n",
              "\n",
              "  <script>\n",
              "    async function quickchart(key) {\n",
              "      const quickchartButtonEl =\n",
              "        document.querySelector('#' + key + ' button');\n",
              "      quickchartButtonEl.disabled = true;  // To prevent multiple clicks.\n",
              "      quickchartButtonEl.classList.add('colab-df-spinner');\n",
              "      try {\n",
              "        const charts = await google.colab.kernel.invokeFunction(\n",
              "            'suggestCharts', [key], {});\n",
              "      } catch (error) {\n",
              "        console.error('Error during call to suggestCharts:', error);\n",
              "      }\n",
              "      quickchartButtonEl.classList.remove('colab-df-spinner');\n",
              "      quickchartButtonEl.classList.add('colab-df-quickchart-complete');\n",
              "    }\n",
              "    (() => {\n",
              "      let quickchartButtonEl =\n",
              "        document.querySelector('#df-13f21cd8-d8f1-43dd-90be-0718e3280ee9 button');\n",
              "      quickchartButtonEl.style.display =\n",
              "        google.colab.kernel.accessAllowed ? 'block' : 'none';\n",
              "    })();\n",
              "  </script>\n",
              "</div>\n",
              "\n",
              "  <div id=\"id_0dc99c09-ab6d-443e-a191-3ce5e8ca4d48\">\n",
              "    <style>\n",
              "      .colab-df-generate {\n",
              "        background-color: #E8F0FE;\n",
              "        border: none;\n",
              "        border-radius: 50%;\n",
              "        cursor: pointer;\n",
              "        display: none;\n",
              "        fill: #1967D2;\n",
              "        height: 32px;\n",
              "        padding: 0 0 0 0;\n",
              "        width: 32px;\n",
              "      }\n",
              "\n",
              "      .colab-df-generate:hover {\n",
              "        background-color: #E2EBFA;\n",
              "        box-shadow: 0px 1px 2px rgba(60, 64, 67, 0.3), 0px 1px 3px 1px rgba(60, 64, 67, 0.15);\n",
              "        fill: #174EA6;\n",
              "      }\n",
              "\n",
              "      [theme=dark] .colab-df-generate {\n",
              "        background-color: #3B4455;\n",
              "        fill: #D2E3FC;\n",
              "      }\n",
              "\n",
              "      [theme=dark] .colab-df-generate:hover {\n",
              "        background-color: #434B5C;\n",
              "        box-shadow: 0px 1px 3px 1px rgba(0, 0, 0, 0.15);\n",
              "        filter: drop-shadow(0px 1px 2px rgba(0, 0, 0, 0.3));\n",
              "        fill: #FFFFFF;\n",
              "      }\n",
              "    </style>\n",
              "    <button class=\"colab-df-generate\" onclick=\"generateWithVariable('X')\"\n",
              "            title=\"Generate code using this dataframe.\"\n",
              "            style=\"display:none;\">\n",
              "\n",
              "  <svg xmlns=\"http://www.w3.org/2000/svg\" height=\"24px\"viewBox=\"0 0 24 24\"\n",
              "       width=\"24px\">\n",
              "    <path d=\"M7,19H8.4L18.45,9,17,7.55,7,17.6ZM5,21V16.75L18.45,3.32a2,2,0,0,1,2.83,0l1.4,1.43a1.91,1.91,0,0,1,.58,1.4,1.91,1.91,0,0,1-.58,1.4L9.25,21ZM18.45,9,17,7.55Zm-12,3A5.31,5.31,0,0,0,4.9,8.1,5.31,5.31,0,0,0,1,6.5,5.31,5.31,0,0,0,4.9,4.9,5.31,5.31,0,0,0,6.5,1,5.31,5.31,0,0,0,8.1,4.9,5.31,5.31,0,0,0,12,6.5,5.46,5.46,0,0,0,6.5,12Z\"/>\n",
              "  </svg>\n",
              "    </button>\n",
              "    <script>\n",
              "      (() => {\n",
              "      const buttonEl =\n",
              "        document.querySelector('#id_0dc99c09-ab6d-443e-a191-3ce5e8ca4d48 button.colab-df-generate');\n",
              "      buttonEl.style.display =\n",
              "        google.colab.kernel.accessAllowed ? 'block' : 'none';\n",
              "\n",
              "      buttonEl.onclick = () => {\n",
              "        google.colab.notebook.generateWithVariable('X');\n",
              "      }\n",
              "      })();\n",
              "    </script>\n",
              "  </div>\n",
              "\n",
              "    </div>\n",
              "  </div>\n"
            ],
            "application/vnd.google.colaboratory.intrinsic+json": {
              "type": "dataframe",
              "variable_name": "X",
              "summary": "{\n  \"name\": \"X\",\n  \"rows\": 6400,\n  \"fields\": [\n    {\n      \"column\": \"Alkalinity, total\",\n      \"properties\": {\n        \"dtype\": \"number\",\n        \"std\": 83.15780330063338,\n        \"min\": 12.0,\n        \"max\": 1000.0,\n        \"num_unique_values\": 466,\n        \"samples\": [\n          97.0,\n          157.0,\n          198.0\n        ],\n        \"semantic_type\": \"\",\n        \"description\": \"\"\n      }\n    },\n    {\n      \"column\": \"Calcium\",\n      \"properties\": {\n        \"dtype\": \"number\",\n        \"std\": 1052.1364516850285,\n        \"min\": 0.61,\n        \"max\": 83000.0,\n        \"num_unique_values\": 734,\n        \"samples\": [\n          42.3,\n          25.0,\n          61.6\n        ],\n        \"semantic_type\": \"\",\n        \"description\": \"\"\n      }\n    },\n    {\n      \"column\": \"Chloride\",\n      \"properties\": {\n        \"dtype\": \"number\",\n        \"std\": 92.93450531942872,\n        \"min\": 0.58,\n        \"max\": 2100.0,\n        \"num_unique_values\": 753,\n        \"samples\": [\n          58.9,\n          46.3,\n          34.5\n        ],\n        \"semantic_type\": \"\",\n        \"description\": \"\"\n      }\n    },\n    {\n      \"column\": \"Fluoride\",\n      \"properties\": {\n        \"dtype\": \"number\",\n        \"std\": 0.45247268594727286,\n        \"min\": 0.049,\n        \"max\": 9.0,\n        \"num_unique_values\": 315,\n        \"samples\": [\n          5.1,\n          0.49,\n          0.85\n        ],\n        \"semantic_type\": \"\",\n        \"description\": \"\"\n      }\n    },\n    {\n      \"column\": \"Magnesium\",\n      \"properties\": {\n        \"dtype\": \"number\",\n        \"std\": 325.3895032002857,\n        \"min\": 0.051,\n        \"max\": 26000.0,\n        \"num_unique_values\": 665,\n        \"samples\": [\n          42.1,\n          6.53,\n          4.59\n        ],\n        \"semantic_type\": \"\",\n        \"description\": \"\"\n      }\n    },\n    {\n      \"column\": \"Nitrate as N\",\n      \"properties\": {\n        \"dtype\": \"number\",\n        \"std\": 4.878279385823561,\n        \"min\": 0.0023,\n        \"max\": 106.0,\n        \"num_unique_values\": 899,\n        \"samples\": [\n          1.73,\n          3.66,\n          0.897\n        ],\n        \"semantic_type\": \"\",\n        \"description\": \"\"\n      }\n    },\n    {\n      \"column\": \"Sodium\",\n      \"properties\": {\n        \"dtype\": \"number\",\n        \"std\": 556.891904058765,\n        \"min\": 1.3,\n        \"max\": 32000.0,\n        \"num_unique_values\": 691,\n        \"samples\": [\n          203.0,\n          98.8,\n          61.763\n        ],\n        \"semantic_type\": \"\",\n        \"description\": \"\"\n      }\n    },\n    {\n      \"column\": \"Specific Conductivity\",\n      \"properties\": {\n        \"dtype\": \"number\",\n        \"std\": 597.2972740145201,\n        \"min\": 40.0,\n        \"max\": 31400.0,\n        \"num_unique_values\": 937,\n        \"samples\": [\n          2640.0,\n          530.0,\n          150.0\n        ],\n        \"semantic_type\": \"\",\n        \"description\": \"\"\n      }\n    },\n    {\n      \"column\": \"Sulfate\",\n      \"properties\": {\n        \"dtype\": \"number\",\n        \"std\": 108.41404876940364,\n        \"min\": 0.14,\n        \"max\": 2000.0,\n        \"num_unique_values\": 851,\n        \"samples\": [\n          9.8,\n          8.3,\n          50.2\n        ],\n        \"semantic_type\": \"\",\n        \"description\": \"\"\n      }\n    },\n    {\n      \"column\": \"Total Dissolved Solids\",\n      \"properties\": {\n        \"dtype\": \"number\",\n        \"std\": 302.95844223106144,\n        \"min\": 19.58,\n        \"max\": 4100.0,\n        \"num_unique_values\": 657,\n        \"samples\": [\n          423.0,\n          441.0,\n          833.0\n        ],\n        \"semantic_type\": \"\",\n        \"description\": \"\"\n      }\n    }\n  ]\n}"
            }
          },
          "metadata": {},
          "execution_count": 27
        }
      ]
    },
    {
      "cell_type": "code",
      "source": [
        "from sklearn.model_selection import train_test_split\n",
        "X_train, X_test, y_train, y_test =train_test_split(X, y , test_size=0.3, random_state=seed)"
      ],
      "metadata": {
        "id": "2Rg0O95mZqdj"
      },
      "execution_count": null,
      "outputs": []
    },
    {
      "cell_type": "code",
      "source": [
        "from sklearn.linear_model import LinearRegression\n",
        "from sklearn import metrics #import scikit-learn metrics module for accuracy calculation"
      ],
      "metadata": {
        "id": "_77CPbZlk2S8"
      },
      "execution_count": null,
      "outputs": []
    },
    {
      "cell_type": "code",
      "source": [
        "ln = LinearRegression()\n",
        "\n",
        "# Training Model\n",
        "\n",
        "# Memodelkan data\n",
        "model_ln = ln.fit(X,y)\n",
        "\n",
        "# Melakukan predict pada data test\n",
        "pred_ln = model_ln.predict(X_test)"
      ],
      "metadata": {
        "id": "RKZFoJCzkq53"
      },
      "execution_count": null,
      "outputs": []
    },
    {
      "cell_type": "code",
      "source": [
        "# Nilai R2\n",
        "print('R Square ',metrics.r2_score(y_test,pred_ln).round(3))"
      ],
      "metadata": {
        "colab": {
          "base_uri": "https://localhost:8080/"
        },
        "id": "WJEQtQzpk7kH",
        "outputId": "5464e957-7840-4299-c50f-b080ac4d68da"
      },
      "execution_count": null,
      "outputs": [
        {
          "output_type": "stream",
          "name": "stdout",
          "text": [
            "R Square  0.782\n"
          ]
        }
      ]
    },
    {
      "cell_type": "code",
      "source": [
        "#import necessary libraries\n",
        "from sklearn.metrics import mean_squared_error\n",
        "from math import sqrt\n",
        "\n",
        "#calculate RMSE\n",
        "sqrt(mean_squared_error(y_test, pred_ln))"
      ],
      "metadata": {
        "id": "6DrJEhBhYoBF",
        "colab": {
          "base_uri": "https://localhost:8080/"
        },
        "outputId": "f73547e0-f7a7-4488-94a2-904a3105f044"
      },
      "execution_count": null,
      "outputs": [
        {
          "output_type": "execute_result",
          "data": {
            "text/plain": [
              "78.17961882416493"
            ]
          },
          "metadata": {},
          "execution_count": 32
        }
      ]
    },
    {
      "cell_type": "markdown",
      "source": [
        "## ANN"
      ],
      "metadata": {
        "id": "3o4vcCWZlaUH"
      }
    },
    {
      "cell_type": "code",
      "source": [
        "from sklearn.neural_network import MLPRegressor\n",
        "# ReLU : fungsi aktivasi untuk memungkinkan model menyelesaikan masalah non linier\n",
        "# ReLU (Rectified Linear Unit)\n",
        "mlp = MLPRegressor(hidden_layer_sizes=(100,100),activation='relu',max_iter=10,learning_rate='constant')\n",
        "\n",
        "# Memodelkan Data Menggunakan Algoritma ANN\n",
        "model_mlp = mlp.fit(X, y)\n",
        "\n",
        "# Melakukan predict pada data test\n",
        "pred_mlp = model_mlp.predict(X_test)"
      ],
      "metadata": {
        "id": "k-kLnZealhPQ"
      },
      "execution_count": null,
      "outputs": []
    },
    {
      "cell_type": "code",
      "source": [
        "#import necessary libraries\n",
        "from sklearn.metrics import mean_squared_error\n",
        "from math import sqrt\n",
        "\n",
        "#calculate RMSE\n",
        "sqrt(mean_squared_error(y_test, pred_mlp))"
      ],
      "metadata": {
        "colab": {
          "base_uri": "https://localhost:8080/"
        },
        "id": "k8f9vSFFlzcA",
        "outputId": "b8a0ba1e-cad8-4e56-f9f1-80815c90d4c6"
      },
      "execution_count": null,
      "outputs": [
        {
          "output_type": "execute_result",
          "data": {
            "text/plain": [
              "47.71499989499485"
            ]
          },
          "metadata": {},
          "execution_count": 34
        }
      ]
    },
    {
      "cell_type": "markdown",
      "source": [
        "## SVM"
      ],
      "metadata": {
        "id": "iWOWFlRZqByL"
      }
    },
    {
      "cell_type": "code",
      "source": [
        "import numpy as np\n",
        "from sklearn.svm import SVR\n",
        "from sklearn.preprocessing import StandardScaler"
      ],
      "metadata": {
        "id": "Hqwr0jVAqDSh"
      },
      "execution_count": null,
      "outputs": []
    },
    {
      "cell_type": "code",
      "source": [
        "# Feature scaling (recommended for SVM)\n",
        "scaler = StandardScaler()\n",
        "X_scaled = scaler.fit_transform(X)\n",
        "\n",
        "# Create and train the SVM regressor\n",
        "svm_reg = SVR(kernel='linear')  # Linear kernel for linear data\n",
        "svm_reg.fit(X_scaled, y)"
      ],
      "metadata": {
        "colab": {
          "base_uri": "https://localhost:8080/",
          "height": 74
        },
        "id": "RC_kfR83qI-P",
        "outputId": "10d41e4d-2105-4402-d0bb-972b4b9fe6f7"
      },
      "execution_count": null,
      "outputs": [
        {
          "output_type": "execute_result",
          "data": {
            "text/plain": [
              "SVR(kernel='linear')"
            ],
            "text/html": [
              "<style>#sk-container-id-1 {color: black;background-color: white;}#sk-container-id-1 pre{padding: 0;}#sk-container-id-1 div.sk-toggleable {background-color: white;}#sk-container-id-1 label.sk-toggleable__label {cursor: pointer;display: block;width: 100%;margin-bottom: 0;padding: 0.3em;box-sizing: border-box;text-align: center;}#sk-container-id-1 label.sk-toggleable__label-arrow:before {content: \"▸\";float: left;margin-right: 0.25em;color: #696969;}#sk-container-id-1 label.sk-toggleable__label-arrow:hover:before {color: black;}#sk-container-id-1 div.sk-estimator:hover label.sk-toggleable__label-arrow:before {color: black;}#sk-container-id-1 div.sk-toggleable__content {max-height: 0;max-width: 0;overflow: hidden;text-align: left;background-color: #f0f8ff;}#sk-container-id-1 div.sk-toggleable__content pre {margin: 0.2em;color: black;border-radius: 0.25em;background-color: #f0f8ff;}#sk-container-id-1 input.sk-toggleable__control:checked~div.sk-toggleable__content {max-height: 200px;max-width: 100%;overflow: auto;}#sk-container-id-1 input.sk-toggleable__control:checked~label.sk-toggleable__label-arrow:before {content: \"▾\";}#sk-container-id-1 div.sk-estimator input.sk-toggleable__control:checked~label.sk-toggleable__label {background-color: #d4ebff;}#sk-container-id-1 div.sk-label input.sk-toggleable__control:checked~label.sk-toggleable__label {background-color: #d4ebff;}#sk-container-id-1 input.sk-hidden--visually {border: 0;clip: rect(1px 1px 1px 1px);clip: rect(1px, 1px, 1px, 1px);height: 1px;margin: -1px;overflow: hidden;padding: 0;position: absolute;width: 1px;}#sk-container-id-1 div.sk-estimator {font-family: monospace;background-color: #f0f8ff;border: 1px dotted black;border-radius: 0.25em;box-sizing: border-box;margin-bottom: 0.5em;}#sk-container-id-1 div.sk-estimator:hover {background-color: #d4ebff;}#sk-container-id-1 div.sk-parallel-item::after {content: \"\";width: 100%;border-bottom: 1px solid gray;flex-grow: 1;}#sk-container-id-1 div.sk-label:hover label.sk-toggleable__label {background-color: #d4ebff;}#sk-container-id-1 div.sk-serial::before {content: \"\";position: absolute;border-left: 1px solid gray;box-sizing: border-box;top: 0;bottom: 0;left: 50%;z-index: 0;}#sk-container-id-1 div.sk-serial {display: flex;flex-direction: column;align-items: center;background-color: white;padding-right: 0.2em;padding-left: 0.2em;position: relative;}#sk-container-id-1 div.sk-item {position: relative;z-index: 1;}#sk-container-id-1 div.sk-parallel {display: flex;align-items: stretch;justify-content: center;background-color: white;position: relative;}#sk-container-id-1 div.sk-item::before, #sk-container-id-1 div.sk-parallel-item::before {content: \"\";position: absolute;border-left: 1px solid gray;box-sizing: border-box;top: 0;bottom: 0;left: 50%;z-index: -1;}#sk-container-id-1 div.sk-parallel-item {display: flex;flex-direction: column;z-index: 1;position: relative;background-color: white;}#sk-container-id-1 div.sk-parallel-item:first-child::after {align-self: flex-end;width: 50%;}#sk-container-id-1 div.sk-parallel-item:last-child::after {align-self: flex-start;width: 50%;}#sk-container-id-1 div.sk-parallel-item:only-child::after {width: 0;}#sk-container-id-1 div.sk-dashed-wrapped {border: 1px dashed gray;margin: 0 0.4em 0.5em 0.4em;box-sizing: border-box;padding-bottom: 0.4em;background-color: white;}#sk-container-id-1 div.sk-label label {font-family: monospace;font-weight: bold;display: inline-block;line-height: 1.2em;}#sk-container-id-1 div.sk-label-container {text-align: center;}#sk-container-id-1 div.sk-container {/* jupyter's `normalize.less` sets `[hidden] { display: none; }` but bootstrap.min.css set `[hidden] { display: none !important; }` so we also need the `!important` here to be able to override the default hidden behavior on the sphinx rendered scikit-learn.org. See: https://github.com/scikit-learn/scikit-learn/issues/21755 */display: inline-block !important;position: relative;}#sk-container-id-1 div.sk-text-repr-fallback {display: none;}</style><div id=\"sk-container-id-1\" class=\"sk-top-container\"><div class=\"sk-text-repr-fallback\"><pre>SVR(kernel=&#x27;linear&#x27;)</pre><b>In a Jupyter environment, please rerun this cell to show the HTML representation or trust the notebook. <br />On GitHub, the HTML representation is unable to render, please try loading this page with nbviewer.org.</b></div><div class=\"sk-container\" hidden><div class=\"sk-item\"><div class=\"sk-estimator sk-toggleable\"><input class=\"sk-toggleable__control sk-hidden--visually\" id=\"sk-estimator-id-1\" type=\"checkbox\" checked><label for=\"sk-estimator-id-1\" class=\"sk-toggleable__label sk-toggleable__label-arrow\">SVR</label><div class=\"sk-toggleable__content\"><pre>SVR(kernel=&#x27;linear&#x27;)</pre></div></div></div></div></div>"
            ]
          },
          "metadata": {},
          "execution_count": 36
        }
      ]
    },
    {
      "cell_type": "code",
      "source": [
        "# Melakukan predict pada data test\n",
        "pred_svm = svm_reg.predict(X_test)\n",
        "\n",
        "#import necessary libraries\n",
        "from sklearn.metrics import mean_squared_error\n",
        "from math import sqrt\n",
        "\n",
        "#calculate RMSE\n",
        "sqrt(mean_squared_error(y_test, pred_svm))"
      ],
      "metadata": {
        "colab": {
          "base_uri": "https://localhost:8080/"
        },
        "id": "IbIfVLVK0bAF",
        "outputId": "bf5dd767-4617-40c8-9991-c3a025d4c89f"
      },
      "execution_count": null,
      "outputs": [
        {
          "output_type": "execute_result",
          "data": {
            "text/plain": [
              "49161.99901953645"
            ]
          },
          "metadata": {},
          "execution_count": 37
        }
      ]
    },
    {
      "cell_type": "markdown",
      "source": [
        "## KNN"
      ],
      "metadata": {
        "id": "6ETH-Te6wPAp"
      }
    },
    {
      "cell_type": "code",
      "source": [
        "\n",
        "#Here's the Python code for a K-Nearest Neighbors (KNN) regressor, incorporating best practices:\n",
        "import numpy as np\n",
        "from sklearn.neighbors import KNeighborsRegressor"
      ],
      "metadata": {
        "id": "-y3xKv1DwNVg"
      },
      "execution_count": null,
      "outputs": []
    },
    {
      "cell_type": "code",
      "source": [
        "# Create and train the KNN regressor\n",
        "knn_reg = KNeighborsRegressor(n_neighbors=5)  # Set k (number of neighbors)\n",
        "knn_reg.fit(X, y)\n",
        "\n",
        "# Make predictions on new data (scale it first)\n",
        "pred_knn= knn_reg.predict(X_test)\n",
        "\n",
        "#import necessary libraries\n",
        "from sklearn.metrics import mean_squared_error\n",
        "from math import sqrt\n",
        "\n",
        "#calculate RMSE\n",
        "sqrt(mean_squared_error(y_test, pred_knn))\n",
        "\n",
        "# Nilai R2\n",
        "print('R Square ',metrics.r2_score(y_test,pred_knn).round(3))"
      ],
      "metadata": {
        "colab": {
          "base_uri": "https://localhost:8080/"
        },
        "id": "b0tiYwY2wSxX",
        "outputId": "5b424a4a-1b39-4283-eab5-f01f00929799"
      },
      "execution_count": null,
      "outputs": [
        {
          "output_type": "stream",
          "name": "stdout",
          "text": [
            "R Square  0.884\n"
          ]
        }
      ]
    },
    {
      "cell_type": "markdown",
      "source": [
        "  ## XGBOOST"
      ],
      "metadata": {
        "id": "4XpnNxZxt9gS"
      }
    },
    {
      "cell_type": "code",
      "source": [
        "from xgboost import XGBRegressor\n",
        "\n",
        "#membuat object algoritma XGBoost\n",
        "clf_xgr = XGBRegressor(n_estimators=10,max_depth=4,random_state=0, learning_rate=0.4)\n",
        "\n",
        "#memodelkan data dengan algoritma XGBoost\n",
        "model_xgr = clf_xgr.fit(X,y)\n",
        "\n",
        "#melakukan predict pda data test\n",
        "pred_xgr = model_xgr.predict(X_test)\n",
        "\n",
        "#import necessary libraries\n",
        "from sklearn.metrics import mean_squared_error\n",
        "from math import sqrt\n",
        "\n",
        "#model = RandomForestClassifier(n_estimators=1000, max_depth=5, random_state=1)\n",
        "model_xgr.fit(X, y)\n",
        "predictions = model_xgr.predict(X_test)\n",
        "\n",
        "#calculate RMSE\n",
        "sqrt(mean_squared_error(y_test, pred_xgr))"
      ],
      "metadata": {
        "id": "s1_NGWlyFkYU",
        "colab": {
          "base_uri": "https://localhost:8080/"
        },
        "outputId": "1749796b-db6f-4e5e-d30e-d4bc0a07f49d"
      },
      "execution_count": null,
      "outputs": [
        {
          "output_type": "execute_result",
          "data": {
            "text/plain": [
              "39.40433079818621"
            ]
          },
          "metadata": {},
          "execution_count": 40
        }
      ]
    },
    {
      "cell_type": "markdown",
      "source": [
        "## Bagging"
      ],
      "metadata": {
        "id": "OgPkDoq73sre"
      }
    },
    {
      "cell_type": "code",
      "source": [
        "from sklearn.ensemble import BaggingRegressor\n",
        "from sklearn.linear_model import LinearRegression"
      ],
      "metadata": {
        "id": "V9jVxAOU3v_k"
      },
      "execution_count": null,
      "outputs": []
    },
    {
      "cell_type": "code",
      "source": [
        "# Create and train the KNN regressor\n",
        "model_bagging =  BaggingRegressor(base_estimator=LinearRegression(), n_estimators=1000)\n",
        "model_bagging.fit(X, y)\n",
        "\n",
        "# Make predictions on new data (scale it first)\n",
        "pred_bagging= model_bagging.predict(X_test)\n",
        "\n",
        "#import necessary libraries\n",
        "from sklearn.metrics import mean_squared_error\n",
        "from math import sqrt\n",
        "\n",
        "#calculate RMSE\n",
        "sqrt(mean_squared_error(y_test, pred_bagging))\n",
        "\n",
        "# Nilai R2\n",
        "print('R Square ',metrics.r2_score(y_test,pred_bagging).round(3))"
      ],
      "metadata": {
        "colab": {
          "base_uri": "https://localhost:8080/"
        },
        "id": "uwcXET9e3xhV",
        "outputId": "24c7a903-b79b-47da-b393-90e7cc19caa2"
      },
      "execution_count": null,
      "outputs": [
        {
          "output_type": "stream",
          "name": "stdout",
          "text": [
            "R Square  0.865\n"
          ]
        }
      ]
    },
    {
      "cell_type": "markdown",
      "source": [
        "## adaboost"
      ],
      "metadata": {
        "id": "GOvRBEjY9PKM"
      }
    },
    {
      "cell_type": "code",
      "source": [
        "from sklearn.ensemble import AdaBoostRegressor\n",
        "from sklearn.tree import DecisionTreeRegressor"
      ],
      "metadata": {
        "id": "RKIlnhnH9Mrv"
      },
      "execution_count": null,
      "outputs": []
    },
    {
      "cell_type": "code",
      "source": [
        "# Create and train the KNN regressor\n",
        "model_ada =  AdaBoostRegressor(base_estimator=DecisionTreeRegressor(max_depth=100), n_estimators=500)\n",
        "model_ada.fit(X, y)\n",
        "\n",
        "# Make predictions on new data (scale it first)\n",
        "pred_ada= model_ada.predict(X_test)\n",
        "\n",
        "#import necessary libraries\n",
        "from sklearn.metrics import mean_squared_error\n",
        "from math import sqrt\n",
        "\n",
        "#calculate RMSE\n",
        "sqrt(mean_squared_error(y_test, pred_ada))\n",
        "\n",
        "# Nilai R2\n",
        "print('R Square ',metrics.r2_score(y_test,pred_ada).round(3))"
      ],
      "metadata": {
        "colab": {
          "base_uri": "https://localhost:8080/"
        },
        "outputId": "47c84284-4432-4f03-ab32-78b621245652",
        "id": "C0rev6Vy9NAT"
      },
      "execution_count": null,
      "outputs": [
        {
          "output_type": "stream",
          "name": "stdout",
          "text": [
            "R Square  1.0\n"
          ]
        }
      ]
    },
    {
      "cell_type": "code",
      "source": [
        "import matplotlib.pyplot as plt\n",
        "import numpy as np\n",
        "\n",
        "# Data prediksi dan aktual\n",
        "\n",
        "# Buat plot\n",
        "plt.figure(figsize=(10, 6))\n",
        "plt.scatter(y_test, pred_ada, color='blue', label='Prediksi')\n",
        "plt.plot(y_test, y_test, color='red', linestyle='--', label='Aktual')\n",
        "\n",
        "# Set label dan judul\n",
        "plt.xlabel('Nilai Aktual')\n",
        "plt.ylabel('Nilai Prediksi')\n",
        "plt.title('Kurva Prediksi vs Aktual')\n",
        "\n",
        "\n",
        "# Tambahkan legenda\n",
        "plt.legend()\n",
        "\n",
        "# Tampilkan plot\n",
        "plt.grid(True)\n",
        "plt.tight_layout()\n",
        "plt.show()"
      ],
      "metadata": {
        "colab": {
          "base_uri": "https://localhost:8080/",
          "height": 607
        },
        "id": "itrCU33k3ZoS",
        "outputId": "4fbfd60d-5c90-4a7d-b1d0-079d3e8b5625"
      },
      "execution_count": null,
      "outputs": [
        {
          "output_type": "display_data",
          "data": {
            "text/plain": [
              "<Figure size 1000x600 with 1 Axes>"
            ],
            "image/png": "[encoded data removed]"
          },
          "metadata": {}
        }
      ]
    },
    {
      "cell_type": "markdown",
      "source": [
        "\n",
        "# prediksi"
      ],
      "metadata": {
        "id": "KU9v1bAdmfms"
      }
    },
    {
      "cell_type": "code",
      "source": [
        "df_pemodelan.columns"
      ],
      "metadata": {
        "colab": {
          "base_uri": "https://localhost:8080/"
        },
        "id": "Of3dNr0As2t1",
        "outputId": "d481d9c9-c3b2-4aba-b2ce-8cc8b5a538a3"
      },
      "execution_count": null,
      "outputs": [
        {
          "output_type": "execute_result",
          "data": {
            "text/plain": [
              "Index(['Alkalinity, total', 'Calcium', 'Chloride', 'Fluoride', 'Magnesium',\n",
              "       'Nitrate as N', 'Sodium', 'Specific Conductivity', 'Sulfate',\n",
              "       'Total Dissolved Solids', 'Hardness'],\n",
              "      dtype='object')"
            ]
          },
          "metadata": {},
          "execution_count": 45
        }
      ]
    },
    {
      "cell_type": "code",
      "source": [
        "x_testing = df_test[['Alkalinity, total', 'Calcium', 'Chloride', 'Fluoride', 'Magnesium',\n",
        "       'Nitrate as N', 'Sodium', 'Specific Conductivity', 'Sulfate',\n",
        "       'Total Dissolved Solids']]\n",
        "prediction = model_ada.predict(x_testing).round(2)"
      ],
      "metadata": {
        "id": "MpEH7Rn64lPw"
      },
      "execution_count": null,
      "outputs": []
    },
    {
      "cell_type": "code",
      "source": [
        "prediction"
      ],
      "metadata": {
        "colab": {
          "base_uri": "https://localhost:8080/"
        },
        "id": "g2B9qXtlk3Zm",
        "outputId": "35604d6b-2ea5-40cc-c835-e75e20d13c74"
      },
      "execution_count": null,
      "outputs": [
        {
          "output_type": "execute_result",
          "data": {
            "text/plain": [
              "array([ 85., 130., 120., ..., 184., 250., 190.])"
            ]
          },
          "metadata": {},
          "execution_count": 50
        }
      ]
    },
    {
      "cell_type": "code",
      "source": [
        "df_prediction_ada = pd.DataFrame({'Hardness':prediction})\n",
        "df_prediction_ada"
      ],
      "metadata": {
        "colab": {
          "base_uri": "https://localhost:8080/",
          "height": 423
        },
        "id": "NEKHKdGGtfpO",
        "outputId": "0ce4f37f-f34b-4a7f-f4dd-ea7dc57cd1c2"
      },
      "execution_count": null,
      "outputs": [
        {
          "output_type": "execute_result",
          "data": {
            "text/plain": [
              "      Hardness\n",
              "0         85.0\n",
              "1        130.0\n",
              "2        120.0\n",
              "3        100.0\n",
              "4        312.0\n",
              "...        ...\n",
              "1596      89.0\n",
              "1597      54.0\n",
              "1598     184.0\n",
              "1599     250.0\n",
              "1600     190.0\n",
              "\n",
              "[1601 rows x 1 columns]"
            ],
            "text/html": [
              "\n",
              "  <div id=\"df-6444cd5b-d331-4931-887b-2e1b0a9c53fb\" class=\"colab-df-container\">\n",
              "    <div>\n",
              "<style scoped>\n",
              "    .dataframe tbody tr th:only-of-type {\n",
              "        vertical-align: middle;\n",
              "    }\n",
              "\n",
              "    .dataframe tbody tr th {\n",
              "        vertical-align: top;\n",
              "    }\n",
              "\n",
              "    .dataframe thead th {\n",
              "        text-align: right;\n",
              "    }\n",
              "</style>\n",
              "<table border=\"1\" class=\"dataframe\">\n",
              "  <thead>\n",
              "    <tr style=\"text-align: right;\">\n",
              "      <th></th>\n",
              "      <th>Hardness</th>\n",
              "    </tr>\n",
              "  </thead>\n",
              "  <tbody>\n",
              "    <tr>\n",
              "      <th>0</th>\n",
              "      <td>85.0</td>\n",
              "    </tr>\n",
              "    <tr>\n",
              "      <th>1</th>\n",
              "      <td>130.0</td>\n",
              "    </tr>\n",
              "    <tr>\n",
              "      <th>2</th>\n",
              "      <td>120.0</td>\n",
              "    </tr>\n",
              "    <tr>\n",
              "      <th>3</th>\n",
              "      <td>100.0</td>\n",
              "    </tr>\n",
              "    <tr>\n",
              "      <th>4</th>\n",
              "      <td>312.0</td>\n",
              "    </tr>\n",
              "    <tr>\n",
              "      <th>...</th>\n",
              "      <td>...</td>\n",
              "    </tr>\n",
              "    <tr>\n",
              "      <th>1596</th>\n",
              "      <td>89.0</td>\n",
              "    </tr>\n",
              "    <tr>\n",
              "      <th>1597</th>\n",
              "      <td>54.0</td>\n",
              "    </tr>\n",
              "    <tr>\n",
              "      <th>1598</th>\n",
              "      <td>184.0</td>\n",
              "    </tr>\n",
              "    <tr>\n",
              "      <th>1599</th>\n",
              "      <td>250.0</td>\n",
              "    </tr>\n",
              "    <tr>\n",
              "      <th>1600</th>\n",
              "      <td>190.0</td>\n",
              "    </tr>\n",
              "  </tbody>\n",
              "</table>\n",
              "<p>1601 rows × 1 columns</p>\n",
              "</div>\n",
              "    <div class=\"colab-df-buttons\">\n",
              "\n",
              "  <div class=\"colab-df-container\">\n",
              "    <button class=\"colab-df-convert\" onclick=\"convertToInteractive('df-6444cd5b-d331-4931-887b-2e1b0a9c53fb')\"\n",
              "            title=\"Convert this dataframe to an interactive table.\"\n",
              "            style=\"display:none;\">\n",
              "\n",
              "  <svg xmlns=\"http://www.w3.org/2000/svg\" height=\"24px\" viewBox=\"0 -960 960 960\">\n",
              "    <path d=\"M120-120v-720h720v720H120Zm60-500h600v-160H180v160Zm220 220h160v-160H400v160Zm0 220h160v-160H400v160ZM180-400h160v-160H180v160Zm440 0h160v-160H620v160ZM180-180h160v-160H180v160Zm440 0h160v-160H620v160Z\"/>\n",
              "  </svg>\n",
              "    </button>\n",
              "\n",
              "  <style>\n",
              "    .colab-df-container {\n",
              "      display:flex;\n",
              "      gap: 12px;\n",
              "    }\n",
              "\n",
              "    .colab-df-convert {\n",
              "      background-color: #E8F0FE;\n",
              "      border: none;\n",
              "      border-radius: 50%;\n",
              "      cursor: pointer;\n",
              "      display: none;\n",
              "      fill: #1967D2;\n",
              "      height: 32px;\n",
              "      padding: 0 0 0 0;\n",
              "      width: 32px;\n",
              "    }\n",
              "\n",
              "    .colab-df-convert:hover {\n",
              "      background-color: #E2EBFA;\n",
              "      box-shadow: 0px 1px 2px rgba(60, 64, 67, 0.3), 0px 1px 3px 1px rgba(60, 64, 67, 0.15);\n",
              "      fill: #174EA6;\n",
              "    }\n",
              "\n",
              "    .colab-df-buttons div {\n",
              "      margin-bottom: 4px;\n",
              "    }\n",
              "\n",
              "    [theme=dark] .colab-df-convert {\n",
              "      background-color: #3B4455;\n",
              "      fill: #D2E3FC;\n",
              "    }\n",
              "\n",
              "    [theme=dark] .colab-df-convert:hover {\n",
              "      background-color: #434B5C;\n",
              "      box-shadow: 0px 1px 3px 1px rgba(0, 0, 0, 0.15);\n",
              "      filter: drop-shadow(0px 1px 2px rgba(0, 0, 0, 0.3));\n",
              "      fill: #FFFFFF;\n",
              "    }\n",
              "  </style>\n",
              "\n",
              "    <script>\n",
              "      const buttonEl =\n",
              "        document.querySelector('#df-6444cd5b-d331-4931-887b-2e1b0a9c53fb button.colab-df-convert');\n",
              "      buttonEl.style.display =\n",
              "        google.colab.kernel.accessAllowed ? 'block' : 'none';\n",
              "\n",
              "      async function convertToInteractive(key) {\n",
              "        const element = document.querySelector('#df-6444cd5b-d331-4931-887b-2e1b0a9c53fb');\n",
              "        const dataTable =\n",
              "          await google.colab.kernel.invokeFunction('convertToInteractive',\n",
              "                                                    [key], {});\n",
              "        if (!dataTable) return;\n",
              "\n",
              "        const docLinkHtml = 'Like what you see? Visit the ' +\n",
              "          '<a target=\"_blank\" href=https://colab.research.google.com/notebooks/data_table.ipynb>data table notebook</a>'\n",
              "          + ' to learn more about interactive tables.';\n",
              "        element.innerHTML = '';\n",
              "        dataTable['output_type'] = 'display_data';\n",
              "        await google.colab.output.renderOutput(dataTable, element);\n",
              "        const docLink = document.createElement('div');\n",
              "        docLink.innerHTML = docLinkHtml;\n",
              "        element.appendChild(docLink);\n",
              "      }\n",
              "    </script>\n",
              "  </div>\n",
              "\n",
              "\n",
              "<div id=\"df-0c8a0b0b-ebb8-4b41-951c-707d45c89fde\">\n",
              "  <button class=\"colab-df-quickchart\" onclick=\"quickchart('df-0c8a0b0b-ebb8-4b41-951c-707d45c89fde')\"\n",
              "            title=\"Suggest charts\"\n",
              "            style=\"display:none;\">\n",
              "\n",
              "<svg xmlns=\"http://www.w3.org/2000/svg\" height=\"24px\"viewBox=\"0 0 24 24\"\n",
              "     width=\"24px\">\n",
              "    <g>\n",
              "        <path d=\"M19 3H5c-1.1 0-2 .9-2 2v14c0 1.1.9 2 2 2h14c1.1 0 2-.9 2-2V5c0-1.1-.9-2-2-2zM9 17H7v-7h2v7zm4 0h-2V7h2v10zm4 0h-2v-4h2v4z\"/>\n",
              "    </g>\n",
              "</svg>\n",
              "  </button>\n",
              "\n",
              "<style>\n",
              "  .colab-df-quickchart {\n",
              "      --bg-color: #E8F0FE;\n",
              "      --fill-color: #1967D2;\n",
              "      --hover-bg-color: #E2EBFA;\n",
              "      --hover-fill-color: #174EA6;\n",
              "      --disabled-fill-color: #AAA;\n",
              "      --disabled-bg-color: #DDD;\n",
              "  }\n",
              "\n",
              "  [theme=dark] .colab-df-quickchart {\n",
              "      --bg-color: #3B4455;\n",
              "      --fill-color: #D2E3FC;\n",
              "      --hover-bg-color: #434B5C;\n",
              "      --hover-fill-color: #FFFFFF;\n",
              "      --disabled-bg-color: #3B4455;\n",
              "      --disabled-fill-color: #666;\n",
              "  }\n",
              "\n",
              "  .colab-df-quickchart {\n",
              "    background-color: var(--bg-color);\n",
              "    border: none;\n",
              "    border-radius: 50%;\n",
              "    cursor: pointer;\n",
              "    display: none;\n",
              "    fill: var(--fill-color);\n",
              "    height: 32px;\n",
              "    padding: 0;\n",
              "    width: 32px;\n",
              "  }\n",
              "\n",
              "  .colab-df-quickchart:hover {\n",
              "    background-color: var(--hover-bg-color);\n",
              "    box-shadow: 0 1px 2px rgba(60, 64, 67, 0.3), 0 1px 3px 1px rgba(60, 64, 67, 0.15);\n",
              "    fill: var(--button-hover-fill-color);\n",
              "  }\n",
              "\n",
              "  .colab-df-quickchart-complete:disabled,\n",
              "  .colab-df-quickchart-complete:disabled:hover {\n",
              "    background-color: var(--disabled-bg-color);\n",
              "    fill: var(--disabled-fill-color);\n",
              "    box-shadow: none;\n",
              "  }\n",
              "\n",
              "  .colab-df-spinner {\n",
              "    border: 2px solid var(--fill-color);\n",
              "    border-color: transparent;\n",
              "    border-bottom-color: var(--fill-color);\n",
              "    animation:\n",
              "      spin 1s steps(1) infinite;\n",
              "  }\n",
              "\n",
              "  @keyframes spin {\n",
              "    0% {\n",
              "      border-color: transparent;\n",
              "      border-bottom-color: var(--fill-color);\n",
              "      border-left-color: var(--fill-color);\n",
              "    }\n",
              "    20% {\n",
              "      border-color: transparent;\n",
              "      border-left-color: var(--fill-color);\n",
              "      border-top-color: var(--fill-color);\n",
              "    }\n",
              "    30% {\n",
              "      border-color: transparent;\n",
              "      border-left-color: var(--fill-color);\n",
              "      border-top-color: var(--fill-color);\n",
              "      border-right-color: var(--fill-color);\n",
              "    }\n",
              "    40% {\n",
              "      border-color: transparent;\n",
              "      border-right-color: var(--fill-color);\n",
              "      border-top-color: var(--fill-color);\n",
              "    }\n",
              "    60% {\n",
              "      border-color: transparent;\n",
              "      border-right-color: var(--fill-color);\n",
              "    }\n",
              "    80% {\n",
              "      border-color: transparent;\n",
              "      border-right-color: var(--fill-color);\n",
              "      border-bottom-color: var(--fill-color);\n",
              "    }\n",
              "    90% {\n",
              "      border-color: transparent;\n",
              "      border-bottom-color: var(--fill-color);\n",
              "    }\n",
              "  }\n",
              "</style>\n",
              "\n",
              "  <script>\n",
              "    async function quickchart(key) {\n",
              "      const quickchartButtonEl =\n",
              "        document.querySelector('#' + key + ' button');\n",
              "      quickchartButtonEl.disabled = true;  // To prevent multiple clicks.\n",
              "      quickchartButtonEl.classList.add('colab-df-spinner');\n",
              "      try {\n",
              "        const charts = await google.colab.kernel.invokeFunction(\n",
              "            'suggestCharts', [key], {});\n",
              "      } catch (error) {\n",
              "        console.error('Error during call to suggestCharts:', error);\n",
              "      }\n",
              "      quickchartButtonEl.classList.remove('colab-df-spinner');\n",
              "      quickchartButtonEl.classList.add('colab-df-quickchart-complete');\n",
              "    }\n",
              "    (() => {\n",
              "      let quickchartButtonEl =\n",
              "        document.querySelector('#df-0c8a0b0b-ebb8-4b41-951c-707d45c89fde button');\n",
              "      quickchartButtonEl.style.display =\n",
              "        google.colab.kernel.accessAllowed ? 'block' : 'none';\n",
              "    })();\n",
              "  </script>\n",
              "</div>\n",
              "\n",
              "  <div id=\"id_4128f8f5-3ce1-4f38-a95e-7b38bdc20046\">\n",
              "    <style>\n",
              "      .colab-df-generate {\n",
              "        background-color: #E8F0FE;\n",
              "        border: none;\n",
              "        border-radius: 50%;\n",
              "        cursor: pointer;\n",
              "        display: none;\n",
              "        fill: #1967D2;\n",
              "        height: 32px;\n",
              "        padding: 0 0 0 0;\n",
              "        width: 32px;\n",
              "      }\n",
              "\n",
              "      .colab-df-generate:hover {\n",
              "        background-color: #E2EBFA;\n",
              "        box-shadow: 0px 1px 2px rgba(60, 64, 67, 0.3), 0px 1px 3px 1px rgba(60, 64, 67, 0.15);\n",
              "        fill: #174EA6;\n",
              "      }\n",
              "\n",
              "      [theme=dark] .colab-df-generate {\n",
              "        background-color: #3B4455;\n",
              "        fill: #D2E3FC;\n",
              "      }\n",
              "\n",
              "      [theme=dark] .colab-df-generate:hover {\n",
              "        background-color: #434B5C;\n",
              "        box-shadow: 0px 1px 3px 1px rgba(0, 0, 0, 0.15);\n",
              "        filter: drop-shadow(0px 1px 2px rgba(0, 0, 0, 0.3));\n",
              "        fill: #FFFFFF;\n",
              "      }\n",
              "    </style>\n",
              "    <button class=\"colab-df-generate\" onclick=\"generateWithVariable('df_prediction_ada')\"\n",
              "            title=\"Generate code using this dataframe.\"\n",
              "            style=\"display:none;\">\n",
              "\n",
              "  <svg xmlns=\"http://www.w3.org/2000/svg\" height=\"24px\"viewBox=\"0 0 24 24\"\n",
              "       width=\"24px\">\n",
              "    <path d=\"M7,19H8.4L18.45,9,17,7.55,7,17.6ZM5,21V16.75L18.45,3.32a2,2,0,0,1,2.83,0l1.4,1.43a1.91,1.91,0,0,1,.58,1.4,1.91,1.91,0,0,1-.58,1.4L9.25,21ZM18.45,9,17,7.55Zm-12,3A5.31,5.31,0,0,0,4.9,8.1,5.31,5.31,0,0,0,1,6.5,5.31,5.31,0,0,0,4.9,4.9,5.31,5.31,0,0,0,6.5,1,5.31,5.31,0,0,0,8.1,4.9,5.31,5.31,0,0,0,12,6.5,5.46,5.46,0,0,0,6.5,12Z\"/>\n",
              "  </svg>\n",
              "    </button>\n",
              "    <script>\n",
              "      (() => {\n",
              "      const buttonEl =\n",
              "        document.querySelector('#id_4128f8f5-3ce1-4f38-a95e-7b38bdc20046 button.colab-df-generate');\n",
              "      buttonEl.style.display =\n",
              "        google.colab.kernel.accessAllowed ? 'block' : 'none';\n",
              "\n",
              "      buttonEl.onclick = () => {\n",
              "        google.colab.notebook.generateWithVariable('df_prediction_ada');\n",
              "      }\n",
              "      })();\n",
              "    </script>\n",
              "  </div>\n",
              "\n",
              "    </div>\n",
              "  </div>\n"
            ],
            "application/vnd.google.colaboratory.intrinsic+json": {
              "type": "dataframe",
              "variable_name": "df_prediction_ada",
              "summary": "{\n  \"name\": \"df_prediction_ada\",\n  \"rows\": 1601,\n  \"fields\": [\n    {\n      \"column\": \"Hardness\",\n      \"properties\": {\n        \"dtype\": \"number\",\n        \"std\": 150.19073256725756,\n        \"min\": 13.0,\n        \"max\": 1100.0,\n        \"num_unique_values\": 408,\n        \"samples\": [\n          172.0,\n          152.0,\n          511.0\n        ],\n        \"semantic_type\": \"\",\n        \"description\": \"\"\n      }\n    }\n  ]\n}"
            }
          },
          "metadata": {},
          "execution_count": 51
        }
      ]
    },
    {
      "cell_type": "code",
      "source": [
        "df_pred_Hardness = pd.concat([df_test,df_prediction_ada],sort=True, axis=1)\n",
        "df_pred_Hardness"
      ],
      "metadata": {
        "id": "Bm1gmiRwtzJr"
      },
      "execution_count": null,
      "outputs": []
    },
    {
      "cell_type": "code",
      "source": [
        "df_pred_Hardness.columns"
      ],
      "metadata": {
        "id": "OFX-0xg-uO1E"
      },
      "execution_count": null,
      "outputs": []
    },
    {
      "cell_type": "code",
      "source": [
        "df_pred_hardness = df_pred_Hardness.drop(columns=['Alkalinity, total', 'Calcium', 'Chloride', 'Fluoride', 'Magnesium',\n",
        "       'Nitrate as N', 'Sodium', 'Specific Conductivity', 'Sulfate',\n",
        "       'Total Dissolved Solids'], axis=1)"
      ],
      "metadata": {
        "id": "bgrtxJVluDk-"
      },
      "execution_count": null,
      "outputs": []
    },
    {
      "cell_type": "code",
      "source": [
        "df_pred_hardness"
      ],
      "metadata": {
        "id": "RseGnYwTu_OB"
      },
      "execution_count": null,
      "outputs": []
    },
    {
      "cell_type": "code",
      "source": [
        "df_pred_hardness = df_pred_hardness.dropna()\n",
        "df_pred_hardness"
      ],
      "metadata": {
        "id": "dOuf33EPxCRJ"
      },
      "execution_count": null,
      "outputs": []
    },
    {
      "cell_type": "code",
      "source": [
        "# Menghapus indeks\n",
        "df_pred_hardness = df_pred_hardness.reset_index(drop=True)"
      ],
      "metadata": {
        "id": "XtkdiwDPykgx"
      },
      "execution_count": null,
      "outputs": []
    },
    {
      "cell_type": "code",
      "source": [
        "# export as download if in colab\n",
        "from google.colab import files\n",
        "df_pred_hardness.to_csv('predict_daladidaadafix.csv',index =False)\n",
        "files.download('predict_daladidaadafix.csv')\n",
        "print(\"berhasil prediksi dijadikan csv!\")"
      ],
      "metadata": {
        "id": "FaPeJrPD0Inw"
      },
      "execution_count": null,
      "outputs": []
    },
    {
      "cell_type": "markdown",
      "source": [
        "# Save Model"
      ],
      "metadata": {
        "id": "uV39Xjm2xDzD"
      }
    },
    {
      "cell_type": "code",
      "source": [
        "import pickle\n",
        "# Misalnya, jika model Anda disimpan dalam variabel 'model'\n",
        "with open('model_daladida.pkl', 'wb') as file:\n",
        "    pickle.dump(clf_xgr, file)"
      ],
      "metadata": {
        "id": "JtuxTGYaxFyh"
      },
      "execution_count": null,
      "outputs": []
    },
    {
      "cell_type": "code",
      "source": [
        "files.download('model_daladida.pkl')"
      ],
      "metadata": {
        "id": "85JIm95TzGHW"
      },
      "execution_count": null,
      "outputs": []
    }
  ],
  "metadata": {
    "colab": {
      "toc_visible": true,
      "provenance": []
    },
    "kernelspec": {
      "display_name": "Python 3",
      "name": "python3"
    },
    "language_info": {
      "name": "python"
    }
  },
  "nbformat": 4,
  "nbformat_minor": 0
}